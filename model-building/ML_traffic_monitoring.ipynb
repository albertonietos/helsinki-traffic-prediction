{
 "cells": [
  {
   "cell_type": "markdown",
   "metadata": {},
   "source": [
    "# HTML: feature engineering and model training\n",
    "In this notebook, we focus on getting the data and properly shaping it to extract meaningful features for the model.\n",
    "Then, we engineer some features that we hope will make the model capture the patterns better.\n",
    "Finally, we fine tune the hyperparameters and perform model selection to find the best performing model."
   ]
  },
  {
   "cell_type": "markdown",
   "metadata": {},
   "source": [
    "## Setup the environment"
   ]
  },
  {
   "cell_type": "code",
   "execution_count": 53,
   "metadata": {},
   "outputs": [
    {
     "name": "stdout",
     "output_type": "stream",
     "text": [
      "The autoreload extension is already loaded. To reload it, use:\n",
      "  %reload_ext autoreload\n"
     ]
    }
   ],
   "source": [
    "# Import the needed libraries\n",
    "import pandas as pd\n",
    "import numpy as np\n",
    "import matplotlib.pyplot as plt\n",
    "from workalendar.europe import Finland\n",
    "import seaborn as sns\n",
    "import pickle\n",
    "import joblib\n",
    "import plotly.express as px\n",
    "\n",
    "# Import the helper file methods\n",
    "from helper_file import load_data, get_file_paths, plotCoefficients, plotModelResults\n",
    "%load_ext autoreload\n",
    "%autoreload 2"
   ]
  },
  {
   "cell_type": "markdown",
   "metadata": {},
   "source": [
    "## Get the data"
   ]
  },
  {
   "cell_type": "code",
   "execution_count": 2,
   "metadata": {},
   "outputs": [],
   "source": [
    "url = 'https://aineistot.vayla.fi/lam/reports/LAM/'\n",
    "result = get_file_paths(url)"
   ]
  },
  {
   "cell_type": "code",
   "execution_count": 3,
   "metadata": {},
   "outputs": [],
   "source": [
    "dfs = []\n",
    "for url in result:\n",
    "    d = load_data(url)\n",
    "    dfs.append(d)\n",
    "data_set = pd.concat(dfs, ignore_index=True)"
   ]
  },
  {
   "cell_type": "code",
   "execution_count": 4,
   "metadata": {},
   "outputs": [
    {
     "data": {
      "text/html": [
       "<div>\n",
       "<style scoped>\n",
       "    .dataframe tbody tr th:only-of-type {\n",
       "        vertical-align: middle;\n",
       "    }\n",
       "\n",
       "    .dataframe tbody tr th {\n",
       "        vertical-align: top;\n",
       "    }\n",
       "\n",
       "    .dataframe thead th {\n",
       "        text-align: right;\n",
       "    }\n",
       "</style>\n",
       "<table border=\"1\" class=\"dataframe\">\n",
       "  <thead>\n",
       "    <tr style=\"text-align: right;\">\n",
       "      <th></th>\n",
       "      <th>TMS</th>\n",
       "      <th>Location</th>\n",
       "      <th>Date</th>\n",
       "      <th>Direction</th>\n",
       "      <th>Type</th>\n",
       "      <th>00-01</th>\n",
       "      <th>01-02</th>\n",
       "      <th>02-03</th>\n",
       "      <th>03-04</th>\n",
       "      <th>04-05</th>\n",
       "      <th>...</th>\n",
       "      <th>14-15</th>\n",
       "      <th>15-16</th>\n",
       "      <th>16-17</th>\n",
       "      <th>17-18</th>\n",
       "      <th>18-19</th>\n",
       "      <th>19-20</th>\n",
       "      <th>20-21</th>\n",
       "      <th>21-22</th>\n",
       "      <th>22-23</th>\n",
       "      <th>23-00</th>\n",
       "    </tr>\n",
       "  </thead>\n",
       "  <tbody>\n",
       "    <tr>\n",
       "      <th>0</th>\n",
       "      <td>117</td>\n",
       "      <td>vt1_Munkkiniemi</td>\n",
       "      <td>2019-01-12</td>\n",
       "      <td>1</td>\n",
       "      <td>11 HA-PA</td>\n",
       "      <td>216</td>\n",
       "      <td>186</td>\n",
       "      <td>158</td>\n",
       "      <td>147</td>\n",
       "      <td>117</td>\n",
       "      <td>...</td>\n",
       "      <td>976</td>\n",
       "      <td>974</td>\n",
       "      <td>978</td>\n",
       "      <td>899</td>\n",
       "      <td>829</td>\n",
       "      <td>675</td>\n",
       "      <td>525</td>\n",
       "      <td>362</td>\n",
       "      <td>189</td>\n",
       "      <td>108</td>\n",
       "    </tr>\n",
       "    <tr>\n",
       "      <th>1</th>\n",
       "      <td>117</td>\n",
       "      <td>vt1_Munkkiniemi</td>\n",
       "      <td>2019-01-12</td>\n",
       "      <td>1</td>\n",
       "      <td>12 KAIP</td>\n",
       "      <td>0</td>\n",
       "      <td>2</td>\n",
       "      <td>0</td>\n",
       "      <td>1</td>\n",
       "      <td>0</td>\n",
       "      <td>...</td>\n",
       "      <td>5</td>\n",
       "      <td>2</td>\n",
       "      <td>2</td>\n",
       "      <td>4</td>\n",
       "      <td>2</td>\n",
       "      <td>4</td>\n",
       "      <td>1</td>\n",
       "      <td>0</td>\n",
       "      <td>0</td>\n",
       "      <td>0</td>\n",
       "    </tr>\n",
       "    <tr>\n",
       "      <th>2</th>\n",
       "      <td>117</td>\n",
       "      <td>vt1_Munkkiniemi</td>\n",
       "      <td>2019-01-12</td>\n",
       "      <td>1</td>\n",
       "      <td>13 Linja-autot</td>\n",
       "      <td>1</td>\n",
       "      <td>2</td>\n",
       "      <td>1</td>\n",
       "      <td>0</td>\n",
       "      <td>2</td>\n",
       "      <td>...</td>\n",
       "      <td>15</td>\n",
       "      <td>8</td>\n",
       "      <td>12</td>\n",
       "      <td>8</td>\n",
       "      <td>11</td>\n",
       "      <td>9</td>\n",
       "      <td>8</td>\n",
       "      <td>5</td>\n",
       "      <td>6</td>\n",
       "      <td>4</td>\n",
       "    </tr>\n",
       "    <tr>\n",
       "      <th>3</th>\n",
       "      <td>117</td>\n",
       "      <td>vt1_Munkkiniemi</td>\n",
       "      <td>2019-01-12</td>\n",
       "      <td>1</td>\n",
       "      <td>14 KAPP</td>\n",
       "      <td>1</td>\n",
       "      <td>0</td>\n",
       "      <td>0</td>\n",
       "      <td>0</td>\n",
       "      <td>0</td>\n",
       "      <td>...</td>\n",
       "      <td>0</td>\n",
       "      <td>0</td>\n",
       "      <td>0</td>\n",
       "      <td>0</td>\n",
       "      <td>1</td>\n",
       "      <td>1</td>\n",
       "      <td>1</td>\n",
       "      <td>0</td>\n",
       "      <td>1</td>\n",
       "      <td>1</td>\n",
       "    </tr>\n",
       "    <tr>\n",
       "      <th>4</th>\n",
       "      <td>117</td>\n",
       "      <td>vt1_Munkkiniemi</td>\n",
       "      <td>2019-01-12</td>\n",
       "      <td>1</td>\n",
       "      <td>15 KATP</td>\n",
       "      <td>0</td>\n",
       "      <td>0</td>\n",
       "      <td>0</td>\n",
       "      <td>0</td>\n",
       "      <td>0</td>\n",
       "      <td>...</td>\n",
       "      <td>0</td>\n",
       "      <td>1</td>\n",
       "      <td>0</td>\n",
       "      <td>0</td>\n",
       "      <td>0</td>\n",
       "      <td>0</td>\n",
       "      <td>1</td>\n",
       "      <td>1</td>\n",
       "      <td>0</td>\n",
       "      <td>0</td>\n",
       "    </tr>\n",
       "  </tbody>\n",
       "</table>\n",
       "<p>5 rows × 29 columns</p>\n",
       "</div>"
      ],
      "text/plain": [
       "   TMS         Location       Date  Direction            Type  00-01  01-02  \\\n",
       "0  117  vt1_Munkkiniemi 2019-01-12          1        11 HA-PA    216    186   \n",
       "1  117  vt1_Munkkiniemi 2019-01-12          1         12 KAIP      0      2   \n",
       "2  117  vt1_Munkkiniemi 2019-01-12          1  13 Linja-autot      1      2   \n",
       "3  117  vt1_Munkkiniemi 2019-01-12          1         14 KAPP      1      0   \n",
       "4  117  vt1_Munkkiniemi 2019-01-12          1         15 KATP      0      0   \n",
       "\n",
       "   02-03  03-04  04-05  ...  14-15  15-16  16-17  17-18  18-19  19-20  20-21  \\\n",
       "0    158    147    117  ...    976    974    978    899    829    675    525   \n",
       "1      0      1      0  ...      5      2      2      4      2      4      1   \n",
       "2      1      0      2  ...     15      8     12      8     11      9      8   \n",
       "3      0      0      0  ...      0      0      0      0      1      1      1   \n",
       "4      0      0      0  ...      0      1      0      0      0      0      1   \n",
       "\n",
       "   21-22  22-23  23-00  \n",
       "0    362    189    108  \n",
       "1      0      0      0  \n",
       "2      5      6      4  \n",
       "3      0      1      1  \n",
       "4      1      0      0  \n",
       "\n",
       "[5 rows x 29 columns]"
      ]
     },
     "execution_count": 4,
     "metadata": {},
     "output_type": "execute_result"
    }
   ],
   "source": [
    "data_set.head()"
   ]
  },
  {
   "cell_type": "markdown",
   "metadata": {},
   "source": [
    "## Preprocessing and Feature Extraction"
   ]
  },
  {
   "cell_type": "code",
   "execution_count": 5,
   "metadata": {},
   "outputs": [],
   "source": [
    "cal = Finland()\n",
    "data_set['holiday'] = data_set.Date.apply(lambda x: not cal.is_working_day(x))"
   ]
  },
  {
   "cell_type": "code",
   "execution_count": 6,
   "metadata": {},
   "outputs": [],
   "source": [
    "id_vars=list(data_set.columns[:5])\n",
    "id_vars.append(data_set.columns[-1])\n",
    "value_vars=list(data_set.columns[5:][:-1])\n",
    "data_set = pd.melt(data_set, id_vars=id_vars, value_vars=value_vars)"
   ]
  },
  {
   "cell_type": "code",
   "execution_count": 7,
   "metadata": {},
   "outputs": [
    {
     "data": {
      "text/html": [
       "<div>\n",
       "<style scoped>\n",
       "    .dataframe tbody tr th:only-of-type {\n",
       "        vertical-align: middle;\n",
       "    }\n",
       "\n",
       "    .dataframe tbody tr th {\n",
       "        vertical-align: top;\n",
       "    }\n",
       "\n",
       "    .dataframe thead th {\n",
       "        text-align: right;\n",
       "    }\n",
       "</style>\n",
       "<table border=\"1\" class=\"dataframe\">\n",
       "  <thead>\n",
       "    <tr style=\"text-align: right;\">\n",
       "      <th></th>\n",
       "      <th>TMS</th>\n",
       "      <th>Location</th>\n",
       "      <th>Date</th>\n",
       "      <th>Direction</th>\n",
       "      <th>Type</th>\n",
       "      <th>holiday</th>\n",
       "      <th>variable</th>\n",
       "      <th>value</th>\n",
       "    </tr>\n",
       "  </thead>\n",
       "  <tbody>\n",
       "    <tr>\n",
       "      <th>0</th>\n",
       "      <td>117</td>\n",
       "      <td>vt1_Munkkiniemi</td>\n",
       "      <td>2019-01-12</td>\n",
       "      <td>1</td>\n",
       "      <td>11 HA-PA</td>\n",
       "      <td>True</td>\n",
       "      <td>00-01</td>\n",
       "      <td>216</td>\n",
       "    </tr>\n",
       "    <tr>\n",
       "      <th>1</th>\n",
       "      <td>117</td>\n",
       "      <td>vt1_Munkkiniemi</td>\n",
       "      <td>2019-01-12</td>\n",
       "      <td>1</td>\n",
       "      <td>12 KAIP</td>\n",
       "      <td>True</td>\n",
       "      <td>00-01</td>\n",
       "      <td>0</td>\n",
       "    </tr>\n",
       "    <tr>\n",
       "      <th>2</th>\n",
       "      <td>117</td>\n",
       "      <td>vt1_Munkkiniemi</td>\n",
       "      <td>2019-01-12</td>\n",
       "      <td>1</td>\n",
       "      <td>13 Linja-autot</td>\n",
       "      <td>True</td>\n",
       "      <td>00-01</td>\n",
       "      <td>1</td>\n",
       "    </tr>\n",
       "    <tr>\n",
       "      <th>3</th>\n",
       "      <td>117</td>\n",
       "      <td>vt1_Munkkiniemi</td>\n",
       "      <td>2019-01-12</td>\n",
       "      <td>1</td>\n",
       "      <td>14 KAPP</td>\n",
       "      <td>True</td>\n",
       "      <td>00-01</td>\n",
       "      <td>1</td>\n",
       "    </tr>\n",
       "    <tr>\n",
       "      <th>4</th>\n",
       "      <td>117</td>\n",
       "      <td>vt1_Munkkiniemi</td>\n",
       "      <td>2019-01-12</td>\n",
       "      <td>1</td>\n",
       "      <td>15 KATP</td>\n",
       "      <td>True</td>\n",
       "      <td>00-01</td>\n",
       "      <td>0</td>\n",
       "    </tr>\n",
       "  </tbody>\n",
       "</table>\n",
       "</div>"
      ],
      "text/plain": [
       "   TMS         Location       Date  Direction            Type  holiday  \\\n",
       "0  117  vt1_Munkkiniemi 2019-01-12          1        11 HA-PA     True   \n",
       "1  117  vt1_Munkkiniemi 2019-01-12          1         12 KAIP     True   \n",
       "2  117  vt1_Munkkiniemi 2019-01-12          1  13 Linja-autot     True   \n",
       "3  117  vt1_Munkkiniemi 2019-01-12          1         14 KAPP     True   \n",
       "4  117  vt1_Munkkiniemi 2019-01-12          1         15 KATP     True   \n",
       "\n",
       "  variable  value  \n",
       "0    00-01    216  \n",
       "1    00-01      0  \n",
       "2    00-01      1  \n",
       "3    00-01      1  \n",
       "4    00-01      0  "
      ]
     },
     "execution_count": 7,
     "metadata": {},
     "output_type": "execute_result"
    }
   ],
   "source": [
    "data_set.drop_duplicates(['Date', 'variable', 'Direction', 'Type'], inplace = True)\n",
    "data_set.head()"
   ]
  },
  {
   "cell_type": "code",
   "execution_count": 8,
   "metadata": {},
   "outputs": [],
   "source": [
    "car_total = data_set.groupby(['Date', 'Direction', 'variable'])\n",
    "data = car_total[['value', 'holiday']].sum().reset_index()"
   ]
  },
  {
   "cell_type": "code",
   "execution_count": 9,
   "metadata": {},
   "outputs": [
    {
     "data": {
      "text/html": [
       "<div>\n",
       "<style scoped>\n",
       "    .dataframe tbody tr th:only-of-type {\n",
       "        vertical-align: middle;\n",
       "    }\n",
       "\n",
       "    .dataframe tbody tr th {\n",
       "        vertical-align: top;\n",
       "    }\n",
       "\n",
       "    .dataframe thead th {\n",
       "        text-align: right;\n",
       "    }\n",
       "</style>\n",
       "<table border=\"1\" class=\"dataframe\">\n",
       "  <thead>\n",
       "    <tr style=\"text-align: right;\">\n",
       "      <th></th>\n",
       "      <th>Date</th>\n",
       "      <th>Direction</th>\n",
       "      <th>variable</th>\n",
       "      <th>value</th>\n",
       "      <th>holiday</th>\n",
       "    </tr>\n",
       "  </thead>\n",
       "  <tbody>\n",
       "    <tr>\n",
       "      <th>0</th>\n",
       "      <td>2019-01-12</td>\n",
       "      <td>1</td>\n",
       "      <td>00-01</td>\n",
       "      <td>218</td>\n",
       "      <td>7</td>\n",
       "    </tr>\n",
       "    <tr>\n",
       "      <th>1</th>\n",
       "      <td>2019-01-12</td>\n",
       "      <td>1</td>\n",
       "      <td>01-02</td>\n",
       "      <td>190</td>\n",
       "      <td>7</td>\n",
       "    </tr>\n",
       "    <tr>\n",
       "      <th>2</th>\n",
       "      <td>2019-01-12</td>\n",
       "      <td>1</td>\n",
       "      <td>02-03</td>\n",
       "      <td>159</td>\n",
       "      <td>7</td>\n",
       "    </tr>\n",
       "    <tr>\n",
       "      <th>3</th>\n",
       "      <td>2019-01-12</td>\n",
       "      <td>1</td>\n",
       "      <td>03-04</td>\n",
       "      <td>148</td>\n",
       "      <td>7</td>\n",
       "    </tr>\n",
       "    <tr>\n",
       "      <th>4</th>\n",
       "      <td>2019-01-12</td>\n",
       "      <td>1</td>\n",
       "      <td>04-05</td>\n",
       "      <td>119</td>\n",
       "      <td>7</td>\n",
       "    </tr>\n",
       "  </tbody>\n",
       "</table>\n",
       "</div>"
      ],
      "text/plain": [
       "        Date  Direction variable  value  holiday\n",
       "0 2019-01-12          1    00-01    218        7\n",
       "1 2019-01-12          1    01-02    190        7\n",
       "2 2019-01-12          1    02-03    159        7\n",
       "3 2019-01-12          1    03-04    148        7\n",
       "4 2019-01-12          1    04-05    119        7"
      ]
     },
     "execution_count": 9,
     "metadata": {},
     "output_type": "execute_result"
    }
   ],
   "source": [
    "conve_dict = dict(zip(data.variable.unique(), list(range(24))))\n",
    "data.head()"
   ]
  },
  {
   "cell_type": "code",
   "execution_count": 10,
   "metadata": {},
   "outputs": [],
   "source": [
    "data.variable = data.variable.transform(lambda x: conve_dict[x])\n",
    "data.holiday = data.holiday.astype(bool)*1"
   ]
  },
  {
   "cell_type": "code",
   "execution_count": 11,
   "metadata": {},
   "outputs": [],
   "source": [
    "data['Date'] = pd.to_datetime(data['Date'])\n",
    "#data['Date']= data['Date'].map(dt.datetime.toordinal)\n",
    "data['timestamp'] = data['Date'] + data.variable.apply(lambda x: np.timedelta64(x, 'h'))"
   ]
  },
  {
   "cell_type": "code",
   "execution_count": 12,
   "metadata": {},
   "outputs": [
    {
     "name": "stderr",
     "output_type": "stream",
     "text": [
      "C:\\Users\\ansni\\AppData\\Local\\Temp/ipykernel_8488/2958133985.py:3: FutureWarning: weekofyear and week have been deprecated, please use DatetimeIndex.isocalendar().week instead, which returns a Series.  To exactly reproduce the behavior of week and weekofyear and return an Index, you may call pd.Int64Index(idx.isocalendar().week)\n",
      "  data['week'] = pd.DatetimeIndex(data['Date']).week\n"
     ]
    }
   ],
   "source": [
    "data['year'] = pd.DatetimeIndex(data['Date']).year\n",
    "data['month'] = pd.DatetimeIndex(data['Date']).month\n",
    "data['week'] = pd.DatetimeIndex(data['Date']).week\n",
    "data['weekday'] = pd.DatetimeIndex(data['Date']).weekday\n",
    "data['is_weekend'] = data.weekday.isin([5,6])*1\n",
    "data['day'] = pd.DatetimeIndex(data['Date']).day"
   ]
  },
  {
   "cell_type": "code",
   "execution_count": 13,
   "metadata": {},
   "outputs": [],
   "source": [
    "data.rename(columns={'variable':'hour', 'Date':'date', 'Direction':'direction'}, inplace=True)"
   ]
  },
  {
   "cell_type": "code",
   "execution_count": 14,
   "metadata": {},
   "outputs": [
    {
     "data": {
      "text/html": [
       "<div>\n",
       "<style scoped>\n",
       "    .dataframe tbody tr th:only-of-type {\n",
       "        vertical-align: middle;\n",
       "    }\n",
       "\n",
       "    .dataframe tbody tr th {\n",
       "        vertical-align: top;\n",
       "    }\n",
       "\n",
       "    .dataframe thead th {\n",
       "        text-align: right;\n",
       "    }\n",
       "</style>\n",
       "<table border=\"1\" class=\"dataframe\">\n",
       "  <thead>\n",
       "    <tr style=\"text-align: right;\">\n",
       "      <th></th>\n",
       "      <th>date</th>\n",
       "      <th>direction</th>\n",
       "      <th>hour</th>\n",
       "      <th>value</th>\n",
       "      <th>holiday</th>\n",
       "      <th>timestamp</th>\n",
       "      <th>year</th>\n",
       "      <th>month</th>\n",
       "      <th>week</th>\n",
       "      <th>weekday</th>\n",
       "      <th>is_weekend</th>\n",
       "      <th>day</th>\n",
       "    </tr>\n",
       "  </thead>\n",
       "  <tbody>\n",
       "    <tr>\n",
       "      <th>0</th>\n",
       "      <td>2019-01-12</td>\n",
       "      <td>1</td>\n",
       "      <td>0</td>\n",
       "      <td>218</td>\n",
       "      <td>1</td>\n",
       "      <td>2019-01-12 00:00:00</td>\n",
       "      <td>2019</td>\n",
       "      <td>1</td>\n",
       "      <td>2</td>\n",
       "      <td>5</td>\n",
       "      <td>1</td>\n",
       "      <td>12</td>\n",
       "    </tr>\n",
       "    <tr>\n",
       "      <th>1</th>\n",
       "      <td>2019-01-12</td>\n",
       "      <td>1</td>\n",
       "      <td>1</td>\n",
       "      <td>190</td>\n",
       "      <td>1</td>\n",
       "      <td>2019-01-12 01:00:00</td>\n",
       "      <td>2019</td>\n",
       "      <td>1</td>\n",
       "      <td>2</td>\n",
       "      <td>5</td>\n",
       "      <td>1</td>\n",
       "      <td>12</td>\n",
       "    </tr>\n",
       "    <tr>\n",
       "      <th>2</th>\n",
       "      <td>2019-01-12</td>\n",
       "      <td>1</td>\n",
       "      <td>2</td>\n",
       "      <td>159</td>\n",
       "      <td>1</td>\n",
       "      <td>2019-01-12 02:00:00</td>\n",
       "      <td>2019</td>\n",
       "      <td>1</td>\n",
       "      <td>2</td>\n",
       "      <td>5</td>\n",
       "      <td>1</td>\n",
       "      <td>12</td>\n",
       "    </tr>\n",
       "    <tr>\n",
       "      <th>3</th>\n",
       "      <td>2019-01-12</td>\n",
       "      <td>1</td>\n",
       "      <td>3</td>\n",
       "      <td>148</td>\n",
       "      <td>1</td>\n",
       "      <td>2019-01-12 03:00:00</td>\n",
       "      <td>2019</td>\n",
       "      <td>1</td>\n",
       "      <td>2</td>\n",
       "      <td>5</td>\n",
       "      <td>1</td>\n",
       "      <td>12</td>\n",
       "    </tr>\n",
       "    <tr>\n",
       "      <th>4</th>\n",
       "      <td>2019-01-12</td>\n",
       "      <td>1</td>\n",
       "      <td>4</td>\n",
       "      <td>119</td>\n",
       "      <td>1</td>\n",
       "      <td>2019-01-12 04:00:00</td>\n",
       "      <td>2019</td>\n",
       "      <td>1</td>\n",
       "      <td>2</td>\n",
       "      <td>5</td>\n",
       "      <td>1</td>\n",
       "      <td>12</td>\n",
       "    </tr>\n",
       "  </tbody>\n",
       "</table>\n",
       "</div>"
      ],
      "text/plain": [
       "        date  direction  hour  value  holiday           timestamp  year  \\\n",
       "0 2019-01-12          1     0    218        1 2019-01-12 00:00:00  2019   \n",
       "1 2019-01-12          1     1    190        1 2019-01-12 01:00:00  2019   \n",
       "2 2019-01-12          1     2    159        1 2019-01-12 02:00:00  2019   \n",
       "3 2019-01-12          1     3    148        1 2019-01-12 03:00:00  2019   \n",
       "4 2019-01-12          1     4    119        1 2019-01-12 04:00:00  2019   \n",
       "\n",
       "   month  week  weekday  is_weekend  day  \n",
       "0      1     2        5           1   12  \n",
       "1      1     2        5           1   12  \n",
       "2      1     2        5           1   12  \n",
       "3      1     2        5           1   12  \n",
       "4      1     2        5           1   12  "
      ]
     },
     "execution_count": 14,
     "metadata": {},
     "output_type": "execute_result"
    }
   ],
   "source": [
    "data.head()"
   ]
  },
  {
   "cell_type": "code",
   "execution_count": 15,
   "metadata": {},
   "outputs": [],
   "source": [
    "# Save preprocessed data\n",
    "data.to_csv('clean_traffic.csv')"
   ]
  },
  {
   "cell_type": "markdown",
   "metadata": {},
   "source": [
    "## Exploratory Data Analysis"
   ]
  },
  {
   "cell_type": "markdown",
   "metadata": {},
   "source": [
    "\n",
    "Let's plot the values for a certain day, a certain week, a certain month and a certain year to see if there are patterns worth investigating. We'll only look at one direction since including both directions will clutter the plot."
   ]
  },
  {
   "cell_type": "markdown",
   "metadata": {},
   "source": [
    "### Unique values\n",
    "Let's look at the unique values for our input features of interest."
   ]
  },
  {
   "cell_type": "code",
   "execution_count": 16,
   "metadata": {},
   "outputs": [
    {
     "name": "stdout",
     "output_type": "stream",
     "text": [
      "Hours: [ 0  1  2  3  4  5  6  7  8  9 10 11 12 13 14 15 16 17 18 19 20 21 22 23]\n",
      "Days: [ 1  2  3  4  5  6  7  8  9 10 11 12 13 14 15 16 17 18 19 20 21 22 23 24\n",
      " 25 26 27 28 29 30 31]\n",
      "WeekDays: [0 1 2 3 4 5 6]\n",
      "is_weekend: [0 1]\n",
      "Weeks: [ 1  2  3  4  5  6  7  8  9 10 11 12 13 14 15 16 17 18 19 20 21 22 23 24\n",
      " 25 26 27 28 29 30 31 32 33 34 35 36 37 38 39 40 41 42 43 44 45 46 47 48\n",
      " 49 50 51 52 53]\n",
      "Months: [ 1  2  3  4  5  6  7  8  9 10 11 12]\n",
      "Years: [2019 2020 2021]\n"
     ]
    }
   ],
   "source": [
    "print(\"Hours:\", np.sort(data.hour.unique()))\n",
    "print(\"Days:\", np.sort(data.day.unique()))\n",
    "print(\"WeekDays:\", np.sort(data.weekday.unique()))\n",
    "print(\"is_weekend:\", np.sort(data.is_weekend.unique()))\n",
    "print(\"Weeks:\", np.sort(data.week.unique()))\n",
    "print(\"Months:\", np.sort(data.month.unique()))\n",
    "print(\"Years:\", np.sort(data.year.unique()))"
   ]
  },
  {
   "cell_type": "markdown",
   "metadata": {},
   "source": [
    "Looks fine, no weird values found."
   ]
  },
  {
   "cell_type": "markdown",
   "metadata": {},
   "source": [
    "Let's get to plotting the resulting features for one of the directions to get a clearer picture."
   ]
  },
  {
   "cell_type": "code",
   "execution_count": 17,
   "metadata": {},
   "outputs": [],
   "source": [
    "one_direction = data[data['direction']==1]"
   ]
  },
  {
   "cell_type": "code",
   "execution_count": 18,
   "metadata": {},
   "outputs": [
    {
     "data": {
      "text/plain": [
       "Text(0.5, 1.0, 'Hour')"
      ]
     },
     "execution_count": 18,
     "metadata": {},
     "output_type": "execute_result"
    },
    {
     "data": {
      "image/png": "[encoded data removed]",
      "text/plain": [
       "<Figure size 720x720 with 4 Axes>"
      ]
     },
     "metadata": {
      "needs_background": "light"
     },
     "output_type": "display_data"
    }
   ],
   "source": [
    "fig, axes = plt.subplots(2, 2, figsize=(10, 10), sharey=False)\n",
    "fig.suptitle('Traffic summary for one direction only')\n",
    "\n",
    "sns.lineplot(ax=axes[0,0], x='month',y='value',hue='year',data=one_direction)\n",
    "axes[0,0].set_title('Month')\n",
    "\n",
    "sns.lineplot(ax=axes[0,1], x='week',y='value',hue='year',data=one_direction)\n",
    "axes[0,1].set_title('Week')\n",
    "\n",
    "sns.lineplot(ax=axes[1,0], x='weekday',y='value',hue='year',data=one_direction)\n",
    "axes[1,0].set_title('Week day')\n",
    "\n",
    "sns.lineplot(ax=axes[1,1], x='hour',y='value',hue='year',data=one_direction)\n",
    "axes[1,1].set_title('Hour')\n"
   ]
  },
  {
   "cell_type": "code",
   "execution_count": 19,
   "metadata": {},
   "outputs": [
    {
     "data": {
      "text/plain": [
       "Text(0.5, 1.0, 'Hour')"
      ]
     },
     "execution_count": 19,
     "metadata": {},
     "output_type": "execute_result"
    },
    {
     "data": {
      "image/png": "[encoded data removed]",
      "text/plain": [
       "<Figure size 720x720 with 4 Axes>"
      ]
     },
     "metadata": {
      "needs_background": "light"
     },
     "output_type": "display_data"
    }
   ],
   "source": [
    "fig, axes = plt.subplots(2, 2, figsize=(10, 10), sharey=False)\n",
    "fig.suptitle('Traffic summary for both directions')\n",
    "\n",
    "sns.lineplot(ax=axes[0,0], x='month',y='value',hue='year',data=data)\n",
    "axes[0,0].set_title('Month')\n",
    "\n",
    "sns.lineplot(ax=axes[0,1], x='week',y='value',hue='year',data=data)\n",
    "axes[0,1].set_title('Week')\n",
    "\n",
    "sns.lineplot(ax=axes[1,0], x='weekday',y='value',hue='year',data=data)\n",
    "axes[1,0].set_title('Week day')\n",
    "\n",
    "sns.lineplot(ax=axes[1,1], x='hour',y='value',hue='year',data=data)\n",
    "axes[1,1].set_title('Hour')\n"
   ]
  },
  {
   "cell_type": "markdown",
   "metadata": {},
   "source": [
    "As we can see different granularity in the scale gives us quite different results. Features such as the year, the month, the week of the year, the week day and the hour can have a big impact on the number of cars on the road."
   ]
  },
  {
   "cell_type": "markdown",
   "metadata": {},
   "source": [
    "Finally, let's look at the linear correlation between the variables in the data"
   ]
  },
  {
   "cell_type": "code",
   "execution_count": 20,
   "metadata": {},
   "outputs": [
    {
     "data": {
      "text/html": [
       "<div>\n",
       "<style scoped>\n",
       "    .dataframe tbody tr th:only-of-type {\n",
       "        vertical-align: middle;\n",
       "    }\n",
       "\n",
       "    .dataframe tbody tr th {\n",
       "        vertical-align: top;\n",
       "    }\n",
       "\n",
       "    .dataframe thead th {\n",
       "        text-align: right;\n",
       "    }\n",
       "</style>\n",
       "<table border=\"1\" class=\"dataframe\">\n",
       "  <thead>\n",
       "    <tr style=\"text-align: right;\">\n",
       "      <th></th>\n",
       "      <th>direction</th>\n",
       "      <th>hour</th>\n",
       "      <th>value</th>\n",
       "      <th>holiday</th>\n",
       "      <th>year</th>\n",
       "      <th>month</th>\n",
       "      <th>week</th>\n",
       "      <th>weekday</th>\n",
       "      <th>is_weekend</th>\n",
       "      <th>day</th>\n",
       "    </tr>\n",
       "  </thead>\n",
       "  <tbody>\n",
       "    <tr>\n",
       "      <th>direction</th>\n",
       "      <td>1.000000e+00</td>\n",
       "      <td>4.229088e-19</td>\n",
       "      <td>0.018559</td>\n",
       "      <td>-2.590151e-17</td>\n",
       "      <td>4.362314e-15</td>\n",
       "      <td>3.076881e-15</td>\n",
       "      <td>3.278468e-15</td>\n",
       "      <td>1.597330e-17</td>\n",
       "      <td>-7.268383e-18</td>\n",
       "      <td>-1.390617e-16</td>\n",
       "    </tr>\n",
       "    <tr>\n",
       "      <th>hour</th>\n",
       "      <td>4.229088e-19</td>\n",
       "      <td>1.000000e+00</td>\n",
       "      <td>0.332316</td>\n",
       "      <td>1.311572e-16</td>\n",
       "      <td>1.728229e-15</td>\n",
       "      <td>-7.246952e-16</td>\n",
       "      <td>-5.191275e-16</td>\n",
       "      <td>5.229248e-17</td>\n",
       "      <td>5.523354e-17</td>\n",
       "      <td>4.284286e-17</td>\n",
       "    </tr>\n",
       "    <tr>\n",
       "      <th>value</th>\n",
       "      <td>1.855870e-02</td>\n",
       "      <td>3.323159e-01</td>\n",
       "      <td>1.000000</td>\n",
       "      <td>-1.360091e-01</td>\n",
       "      <td>-4.374395e-02</td>\n",
       "      <td>2.115749e-02</td>\n",
       "      <td>1.981546e-02</td>\n",
       "      <td>-9.454696e-02</td>\n",
       "      <td>-1.207118e-01</td>\n",
       "      <td>-6.321770e-03</td>\n",
       "    </tr>\n",
       "    <tr>\n",
       "      <th>holiday</th>\n",
       "      <td>-2.590151e-17</td>\n",
       "      <td>1.311572e-16</td>\n",
       "      <td>-0.136009</td>\n",
       "      <td>1.000000e+00</td>\n",
       "      <td>-1.977258e-02</td>\n",
       "      <td>-1.701887e-02</td>\n",
       "      <td>-1.251843e-03</td>\n",
       "      <td>7.521276e-01</td>\n",
       "      <td>9.344014e-01</td>\n",
       "      <td>-7.980233e-03</td>\n",
       "    </tr>\n",
       "    <tr>\n",
       "      <th>year</th>\n",
       "      <td>4.362314e-15</td>\n",
       "      <td>1.728229e-15</td>\n",
       "      <td>-0.043744</td>\n",
       "      <td>-1.977258e-02</td>\n",
       "      <td>1.000000e+00</td>\n",
       "      <td>-2.301712e-01</td>\n",
       "      <td>-2.153043e-01</td>\n",
       "      <td>-3.726599e-03</td>\n",
       "      <td>-3.650852e-03</td>\n",
       "      <td>-6.362583e-02</td>\n",
       "    </tr>\n",
       "    <tr>\n",
       "      <th>month</th>\n",
       "      <td>3.076881e-15</td>\n",
       "      <td>-7.246952e-16</td>\n",
       "      <td>0.021157</td>\n",
       "      <td>-1.701887e-02</td>\n",
       "      <td>-2.301712e-01</td>\n",
       "      <td>1.000000e+00</td>\n",
       "      <td>9.535986e-01</td>\n",
       "      <td>-1.802986e-02</td>\n",
       "      <td>-1.678534e-02</td>\n",
       "      <td>-3.421480e-02</td>\n",
       "    </tr>\n",
       "    <tr>\n",
       "      <th>week</th>\n",
       "      <td>3.278468e-15</td>\n",
       "      <td>-5.191275e-16</td>\n",
       "      <td>0.019815</td>\n",
       "      <td>-1.251843e-03</td>\n",
       "      <td>-2.153043e-01</td>\n",
       "      <td>9.535986e-01</td>\n",
       "      <td>1.000000e+00</td>\n",
       "      <td>-7.709196e-03</td>\n",
       "      <td>-1.093841e-02</td>\n",
       "      <td>1.087268e-02</td>\n",
       "    </tr>\n",
       "    <tr>\n",
       "      <th>weekday</th>\n",
       "      <td>1.597330e-17</td>\n",
       "      <td>5.229248e-17</td>\n",
       "      <td>-0.094547</td>\n",
       "      <td>7.521276e-01</td>\n",
       "      <td>-3.726599e-03</td>\n",
       "      <td>-1.802986e-02</td>\n",
       "      <td>-7.709196e-03</td>\n",
       "      <td>1.000000e+00</td>\n",
       "      <td>7.893797e-01</td>\n",
       "      <td>2.807189e-03</td>\n",
       "    </tr>\n",
       "    <tr>\n",
       "      <th>is_weekend</th>\n",
       "      <td>-7.268383e-18</td>\n",
       "      <td>5.523354e-17</td>\n",
       "      <td>-0.120712</td>\n",
       "      <td>9.344014e-01</td>\n",
       "      <td>-3.650852e-03</td>\n",
       "      <td>-1.678534e-02</td>\n",
       "      <td>-1.093841e-02</td>\n",
       "      <td>7.893797e-01</td>\n",
       "      <td>1.000000e+00</td>\n",
       "      <td>7.825509e-03</td>\n",
       "    </tr>\n",
       "    <tr>\n",
       "      <th>day</th>\n",
       "      <td>-1.390617e-16</td>\n",
       "      <td>4.284286e-17</td>\n",
       "      <td>-0.006322</td>\n",
       "      <td>-7.980233e-03</td>\n",
       "      <td>-6.362583e-02</td>\n",
       "      <td>-3.421480e-02</td>\n",
       "      <td>1.087268e-02</td>\n",
       "      <td>2.807189e-03</td>\n",
       "      <td>7.825509e-03</td>\n",
       "      <td>1.000000e+00</td>\n",
       "    </tr>\n",
       "  </tbody>\n",
       "</table>\n",
       "</div>"
      ],
      "text/plain": [
       "               direction          hour     value       holiday          year  \\\n",
       "direction   1.000000e+00  4.229088e-19  0.018559 -2.590151e-17  4.362314e-15   \n",
       "hour        4.229088e-19  1.000000e+00  0.332316  1.311572e-16  1.728229e-15   \n",
       "value       1.855870e-02  3.323159e-01  1.000000 -1.360091e-01 -4.374395e-02   \n",
       "holiday    -2.590151e-17  1.311572e-16 -0.136009  1.000000e+00 -1.977258e-02   \n",
       "year        4.362314e-15  1.728229e-15 -0.043744 -1.977258e-02  1.000000e+00   \n",
       "month       3.076881e-15 -7.246952e-16  0.021157 -1.701887e-02 -2.301712e-01   \n",
       "week        3.278468e-15 -5.191275e-16  0.019815 -1.251843e-03 -2.153043e-01   \n",
       "weekday     1.597330e-17  5.229248e-17 -0.094547  7.521276e-01 -3.726599e-03   \n",
       "is_weekend -7.268383e-18  5.523354e-17 -0.120712  9.344014e-01 -3.650852e-03   \n",
       "day        -1.390617e-16  4.284286e-17 -0.006322 -7.980233e-03 -6.362583e-02   \n",
       "\n",
       "                   month          week       weekday    is_weekend  \\\n",
       "direction   3.076881e-15  3.278468e-15  1.597330e-17 -7.268383e-18   \n",
       "hour       -7.246952e-16 -5.191275e-16  5.229248e-17  5.523354e-17   \n",
       "value       2.115749e-02  1.981546e-02 -9.454696e-02 -1.207118e-01   \n",
       "holiday    -1.701887e-02 -1.251843e-03  7.521276e-01  9.344014e-01   \n",
       "year       -2.301712e-01 -2.153043e-01 -3.726599e-03 -3.650852e-03   \n",
       "month       1.000000e+00  9.535986e-01 -1.802986e-02 -1.678534e-02   \n",
       "week        9.535986e-01  1.000000e+00 -7.709196e-03 -1.093841e-02   \n",
       "weekday    -1.802986e-02 -7.709196e-03  1.000000e+00  7.893797e-01   \n",
       "is_weekend -1.678534e-02 -1.093841e-02  7.893797e-01  1.000000e+00   \n",
       "day        -3.421480e-02  1.087268e-02  2.807189e-03  7.825509e-03   \n",
       "\n",
       "                     day  \n",
       "direction  -1.390617e-16  \n",
       "hour        4.284286e-17  \n",
       "value      -6.321770e-03  \n",
       "holiday    -7.980233e-03  \n",
       "year       -6.362583e-02  \n",
       "month      -3.421480e-02  \n",
       "week        1.087268e-02  \n",
       "weekday     2.807189e-03  \n",
       "is_weekend  7.825509e-03  \n",
       "day         1.000000e+00  "
      ]
     },
     "execution_count": 20,
     "metadata": {},
     "output_type": "execute_result"
    }
   ],
   "source": [
    "data.corr()"
   ]
  },
  {
   "cell_type": "code",
   "execution_count": 21,
   "metadata": {},
   "outputs": [
    {
     "data": {
      "image/png": "[encoded data removed]",
      "text/plain": [
       "<Figure size 720x720 with 2 Axes>"
      ]
     },
     "metadata": {
      "needs_background": "light"
     },
     "output_type": "display_data"
    }
   ],
   "source": [
    "f = plt.figure(figsize=(10, 10))\n",
    "\n",
    "plt.matshow(data.corr(), fignum=f.number)\n",
    "plt.xticks(range(data.select_dtypes(['number']).shape[1]), data.select_dtypes(['number']).columns, fontsize=14, rotation=45)\n",
    "plt.yticks(range(data.select_dtypes(['number']).shape[1]), data.select_dtypes(['number']).columns, fontsize=14)\n",
    "cb = plt.colorbar()\n",
    "cb.ax.tick_params(labelsize=14)\n",
    "plt.title('Correlation Matrix', fontsize=16, pad=50);"
   ]
  },
  {
   "cell_type": "markdown",
   "metadata": {},
   "source": [
    "The highest correlation is between month and week. This is because the more weeks pass, the more months pass.\n",
    "The negative correlation between year and month and week is also irrelevant since it has to do with how time works.\n",
    "\n",
    "What matters most is what is correlated with the value of cars on the road:\n",
    "* The hour of the day shows a high positive correlation,\n",
    "* Being a holiday shows a negative correlation,\n",
    "* The day of the week and the weekend also show a negative correlation.\n",
    "The day of the week and the weekend are very correlated as is expected.\n",
    "The weekend is almost 100% correlated with the holiday because all weekends are marked as holidays."
   ]
  },
  {
   "cell_type": "markdown",
   "metadata": {},
   "source": [
    "## Modelling"
   ]
  },
  {
   "cell_type": "markdown",
   "metadata": {},
   "source": [
    "\n",
    "Now that we have a good picture of the data, let's start to see if we can find a good fit.\n",
    "\n",
    "It's important to note that since we are dealing with time series data, we can not blindly form train and test splits randomly.\n",
    "We have to respect the structure of the data and only test on future samples."
   ]
  },
  {
   "cell_type": "code",
   "execution_count": 22,
   "metadata": {},
   "outputs": [
    {
     "name": "stdout",
     "output_type": "stream",
     "text": [
      "Shape of X: (32160, 9)\n",
      "Shape of y: (32160, 1)\n"
     ]
    }
   ],
   "source": [
    "# Let's divide the data into input features (X) and target features (y)\n",
    "input_features = ['direction', 'hour', 'holiday', 'year', 'month', 'week', 'weekday', 'day', 'is_weekend']\n",
    "target_feature = ['value']\n",
    "X = np.array(data[input_features])\n",
    "y = np.array(data[target_feature])\n",
    "print(\"Shape of X:\", X.shape)\n",
    "print(\"Shape of y:\", y.shape)"
   ]
  },
  {
   "cell_type": "code",
   "execution_count": 23,
   "metadata": {},
   "outputs": [
    {
     "name": "stdout",
     "output_type": "stream",
     "text": [
      "TRAIN: [   0    1    2 ... 5357 5358 5359] TEST: [ 5360  5361  5362 ... 10717 10718 10719]\n",
      "TRAIN: [    0     1     2 ... 10717 10718 10719] TEST: [10720 10721 10722 ... 16077 16078 16079]\n",
      "TRAIN: [    0     1     2 ... 16077 16078 16079] TEST: [16080 16081 16082 ... 21437 21438 21439]\n",
      "TRAIN: [    0     1     2 ... 21437 21438 21439] TEST: [21440 21441 21442 ... 26797 26798 26799]\n",
      "TRAIN: [    0     1     2 ... 26797 26798 26799] TEST: [26800 26801 26802 ... 32157 32158 32159]\n"
     ]
    }
   ],
   "source": [
    "from sklearn.model_selection import TimeSeriesSplit, cross_val_score\n",
    "\n",
    "tscv = TimeSeriesSplit()\n",
    "for train_index, test_index in tscv.split(X):\n",
    "    print(\"TRAIN:\", train_index, \"TEST:\", test_index)\n",
    "    X_train, X_test = X[train_index], X[test_index]\n",
    "    y_train, y_test = y[train_index], y[test_index]"
   ]
  },
  {
   "cell_type": "markdown",
   "metadata": {},
   "source": [
    "As we can see `TimeSeriesSplit` respects the direction of time and does not leak data into the test set."
   ]
  },
  {
   "cell_type": "code",
   "execution_count": 24,
   "metadata": {},
   "outputs": [
    {
     "name": "stdout",
     "output_type": "stream",
     "text": [
      "MAE (train) =  375.25645156823384\n",
      "MAE (test) =  319.808383983027\n",
      "MAE (train) =  343.9743935524636\n",
      "MAE (test) =  347.88643987819285\n",
      "MAE (train) =  345.1829453737772\n",
      "MAE (test) =  322.23723155798444\n",
      "MAE (train) =  339.5280087692909\n",
      "MAE (test) =  310.10266619752747\n",
      "MAE (train) =  334.11886491135147\n",
      "MAE (test) =  320.56505031681417\n"
     ]
    }
   ],
   "source": [
    "from sklearn.linear_model import LinearRegression\n",
    "from sklearn.metrics import mean_absolute_error\n",
    "\n",
    "mae_train = []\n",
    "mae_percentage = []\n",
    "for train_index, test_index in tscv.split(X):\n",
    "    # Get the train and test data\n",
    "    X_train, X_test = X[train_index], X[test_index]\n",
    "    y_train, y_test = y[train_index], y[test_index]\n",
    "\n",
    "    # Train the linear regression model\n",
    "    lin_reg = LinearRegression()\n",
    "    lin_reg.fit(X_train, y_train)\n",
    "\n",
    "    # See model performance\n",
    "    predictions_train = lin_reg.predict(X_train)\n",
    "    predictions_test = lin_reg.predict(X_test)\n",
    "    print(\"MAE (train) = \", mean_absolute_error(y_train, predictions_train))\n",
    "    print(\"MAE (test) = \", mean_absolute_error(y_test, predictions_test))"
   ]
  },
  {
   "cell_type": "markdown",
   "metadata": {},
   "source": [
    "We need to use the negative mean absolute error because for cross validation scores in sklearn higher is always better."
   ]
  },
  {
   "cell_type": "code",
   "execution_count": 25,
   "metadata": {},
   "outputs": [],
   "source": [
    "lin_reg = LinearRegression()\n",
    "cv_score_mae = cross_val_score(lin_reg, X, y, cv=tscv, scoring='neg_mean_absolute_error', n_jobs=-1)\n",
    "cv_score_mape = cross_val_score(lin_reg, X, y, cv=tscv, scoring='neg_mean_absolute_percentage_error', n_jobs=-1)\n",
    "cv_score_r2 = cross_val_score(lin_reg, X, y, cv=tscv, scoring='r2', n_jobs=-1)"
   ]
  },
  {
   "cell_type": "code",
   "execution_count": 26,
   "metadata": {},
   "outputs": [
    {
     "data": {
      "text/plain": [
       "(array([-319.80838398, -347.88643988, -322.23723156, -310.1026662 ,\n",
       "        -320.56505032]),\n",
       " array([-3.04776237, -2.17971458, -2.91738494, -2.44737318, -2.38843258]),\n",
       " array([0.08896215, 0.08991472, 0.12124327, 0.13060835, 0.13345494]),\n",
       " 0.11283668857457108)"
      ]
     },
     "execution_count": 26,
     "metadata": {},
     "output_type": "execute_result"
    }
   ],
   "source": [
    "cv_score_mae, cv_score_mape, cv_score_r2, cv_score_r2.mean()"
   ]
  },
  {
   "cell_type": "code",
   "execution_count": 27,
   "metadata": {},
   "outputs": [],
   "source": [
    "from sklearn.ensemble import RandomForestRegressor\n",
    "\n",
    "rf_reg = RandomForestRegressor()\n",
    "cv_score_mae = cross_val_score(rf_reg, X, y, cv=tscv, scoring='neg_mean_absolute_error', n_jobs=-1)\n",
    "cv_score_mape = cross_val_score(rf_reg, X, y, cv=tscv, scoring='neg_mean_absolute_percentage_error', n_jobs=-1)\n",
    "cv_score_r2 = cross_val_score(rf_reg, X, y, cv=tscv, scoring='r2', n_jobs=-1)"
   ]
  },
  {
   "cell_type": "code",
   "execution_count": 28,
   "metadata": {},
   "outputs": [
    {
     "data": {
      "text/plain": [
       "(array([-137.80347948, -102.78242351, -135.83134142,  -90.65032836,\n",
       "         -83.32282276]),\n",
       " array([-0.58934319, -0.30918833, -0.45712356, -0.25851947, -0.27229759]),\n",
       " array([0.69944813, 0.83436015, 0.71282842, 0.85110534, 0.8734659 ]),\n",
       " 0.7942415879967818)"
      ]
     },
     "execution_count": 28,
     "metadata": {},
     "output_type": "execute_result"
    }
   ],
   "source": [
    "cv_score_mae, cv_score_mape, cv_score_r2, cv_score_r2.mean()"
   ]
  },
  {
   "cell_type": "markdown",
   "metadata": {},
   "source": [
    "As we can see a random forest regressor can outperform without any hyperparameter tuning to a linear regression model. However, both models perform fairly good."
   ]
  },
  {
   "cell_type": "code",
   "execution_count": 29,
   "metadata": {},
   "outputs": [],
   "source": [
    "cv_score_mape = cross_val_score(rf_reg, X, y, cv=tscv, scoring='neg_mean_squared_error', n_jobs=-1)"
   ]
  },
  {
   "cell_type": "code",
   "execution_count": 30,
   "metadata": {},
   "outputs": [
    {
     "data": {
      "text/plain": [
       "array([0.69779413, 0.82936263, 0.71300469, 0.85017612, 0.87502948])"
      ]
     },
     "execution_count": 30,
     "metadata": {},
     "output_type": "execute_result"
    }
   ],
   "source": [
    "cv_score_r2 = cross_val_score(rf_reg, X, y, cv=tscv, scoring='r2', n_jobs=-1)\n",
    "cv_score_r2"
   ]
  },
  {
   "cell_type": "code",
   "execution_count": 31,
   "metadata": {},
   "outputs": [
    {
     "data": {
      "text/plain": [
       "array([-52498.58598558, -34271.33745707, -50641.04490933, -24963.05550151,\n",
       "       -21876.05153336])"
      ]
     },
     "execution_count": 31,
     "metadata": {},
     "output_type": "execute_result"
    }
   ],
   "source": [
    "cv_score_mape"
   ]
  },
  {
   "cell_type": "markdown",
   "metadata": {},
   "source": [
    "## Plotting the results"
   ]
  },
  {
   "cell_type": "markdown",
   "metadata": {},
   "source": [
    "\n",
    "Now that we have a working model and we know it performs well ($R^2=0.87$ for the last split of the RF model), let's see how good these predictions look on plots."
   ]
  },
  {
   "cell_type": "markdown",
   "metadata": {},
   "source": [
    "`X_train` contains the last split so this is what we want to test."
   ]
  },
  {
   "cell_type": "code",
   "execution_count": 32,
   "metadata": {},
   "outputs": [
    {
     "data": {
      "text/plain": [
       "((26800, 9), (5360, 9))"
      ]
     },
     "execution_count": 32,
     "metadata": {},
     "output_type": "execute_result"
    }
   ],
   "source": [
    "X_train.shape, X_test.shape"
   ]
  },
  {
   "cell_type": "code",
   "execution_count": 33,
   "metadata": {},
   "outputs": [
    {
     "name": "stderr",
     "output_type": "stream",
     "text": [
      "C:\\Users\\ansni\\AppData\\Local\\Temp/ipykernel_8488/3901435218.py:1: DataConversionWarning: A column-vector y was passed when a 1d array was expected. Please change the shape of y to (n_samples,), for example using ravel().\n",
      "  rf_reg.fit(X_train, y_train)\n"
     ]
    },
    {
     "data": {
      "text/plain": [
       "RandomForestRegressor()"
      ]
     },
     "execution_count": 33,
     "metadata": {},
     "output_type": "execute_result"
    }
   ],
   "source": [
    "rf_reg.fit(X_train, y_train)"
   ]
  },
  {
   "cell_type": "code",
   "execution_count": 46,
   "metadata": {},
   "outputs": [
    {
     "data": {
      "image/png": "[encoded data removed]",
      "text/plain": [
       "<Figure size 1080x504 with 1 Axes>"
      ]
     },
     "metadata": {
      "needs_background": "light"
     },
     "output_type": "display_data"
    }
   ],
   "source": [
    "plotModelResults(rf_reg, X_train=X_train, X_test=X_test, y_test=y_test, size=300, cv=cv_score_mae, plot_intervals=True)"
   ]
  },
  {
   "cell_type": "markdown",
   "metadata": {},
   "source": [
    "This plot shows the comparison between the actual value and the predicted one with some upper and lower bonds based on the standard deviation of the CV. The plot corresponds to roughly the last 12.5 days of the data set ($300 h/24 h/day=12.5 days$), you can see that there are 12 cycles/peaks and a half.\n",
    "\n",
    "As you can see the model predicts the lower demand very well with little to no error, while the highest peaks are more often missed. I'd say that about half the days here are quite spot on and the other half are either decent or not great.\n",
    "I don't know much about traffic, but I would assume that predicting the demand peaks is the most difficult task. While predicting the demand at night is very easy."
   ]
  },
  {
   "cell_type": "code",
   "execution_count": 52,
   "metadata": {},
   "outputs": [
    {
     "name": "stdout",
     "output_type": "stream",
     "text": [
      "The 97.5% lower and upper bounds are defined by mae + scale * deviation=155.0\n"
     ]
    }
   ],
   "source": [
    "mae = cv_score_mae.mean() * (-1)\n",
    "deviation = cv_score_mae.std()\n",
    "scale = 1.96\n",
    "print(f\"The 97.5% lower and upper bounds are defined by mae + scale * deviation={np.round(mae + scale * deviation)}\")\n"
   ]
  },
  {
   "cell_type": "markdown",
   "metadata": {},
   "source": [
    "\n",
    "Let's look at the feature importance since we're already here."
   ]
  },
  {
   "cell_type": "code",
   "execution_count": null,
   "metadata": {},
   "outputs": [
    {
     "data": {
      "image/png": "[encoded data removed]",
      "text/plain": [
       "<Figure size 720x432 with 1 Axes>"
      ]
     },
     "metadata": {
      "needs_background": "light"
     },
     "output_type": "display_data"
    }
   ],
   "source": [
    "plotCoefficients(rf_reg, input_features)"
   ]
  },
  {
   "cell_type": "markdown",
   "metadata": {},
   "source": [
    "As you can see the variable representing the hour does most of the work. Other important ones, but far away, are the day of the month, the direction, the week of the year and whether it is a holiday.\n",
    "The year, the month and the day of the week were somewhat a little relevant. Whether the day was a weekend or not did not carry any weight because the variable holiday already includes weekends."
   ]
  },
  {
   "cell_type": "markdown",
   "metadata": {},
   "source": [
    "## Save model to use in application"
   ]
  },
  {
   "cell_type": "code",
   "execution_count": null,
   "metadata": {},
   "outputs": [],
   "source": [
    "pkl_filename = \"forest_model.pkl\"\n",
    "with open(pkl_filename, 'wb') as file:\n",
    "    pickle.dump(rf_reg, file)"
   ]
  },
  {
   "cell_type": "code",
   "execution_count": 62,
   "metadata": {},
   "outputs": [
    {
     "data": {
      "text/plain": [
       "['test.pkl']"
      ]
     },
     "execution_count": 62,
     "metadata": {},
     "output_type": "execute_result"
    }
   ],
   "source": [
    "joblib.dump(rf_reg, \"forest_model_compressed.pkl\", 9) # compress model"
   ]
  },
  {
   "cell_type": "markdown",
   "metadata": {},
   "source": [
    "The compressed model is 34MB.\n",
    "The uncompressed one is 208MB, so this is a great reduction (6 fold). "
   ]
  },
  {
   "cell_type": "markdown",
   "metadata": {},
   "source": [
    "## Load model and predict as in application"
   ]
  },
  {
   "cell_type": "markdown",
   "metadata": {},
   "source": [
    "Let's test how the model would be used in the dash app."
   ]
  },
  {
   "cell_type": "code",
   "execution_count": null,
   "metadata": {},
   "outputs": [],
   "source": [
    "model = joblib.load('./forest_model.pkl')\n",
    "data_copy = pd.read_csv('clean_traffic.csv')"
   ]
  },
  {
   "cell_type": "code",
   "execution_count": null,
   "metadata": {},
   "outputs": [],
   "source": [
    "# Input data\n",
    "date = '23.10.2021'\n",
    "time = '14'\n",
    "direction = 0"
   ]
  },
  {
   "cell_type": "code",
   "execution_count": null,
   "metadata": {},
   "outputs": [
    {
     "data": {
      "text/plain": [
       "['direction',\n",
       " 'hour',\n",
       " 'holiday',\n",
       " 'year',\n",
       " 'month',\n",
       " 'week',\n",
       " 'weekday',\n",
       " 'day',\n",
       " 'is_weekend']"
      ]
     },
     "execution_count": 39,
     "metadata": {},
     "output_type": "execute_result"
    }
   ],
   "source": [
    "input_features"
   ]
  },
  {
   "cell_type": "code",
   "execution_count": null,
   "metadata": {},
   "outputs": [
    {
     "data": {
      "text/plain": [
       "' 14:00:00'"
      ]
     },
     "execution_count": 40,
     "metadata": {},
     "output_type": "execute_result"
    }
   ],
   "source": [
    "time += ':00:00'\n",
    "time = ' ' + time\n",
    "time"
   ]
  },
  {
   "cell_type": "code",
   "execution_count": null,
   "metadata": {},
   "outputs": [
    {
     "data": {
      "text/plain": [
       "Timestamp('2021-10-23 14:00:00')"
      ]
     },
     "execution_count": 41,
     "metadata": {},
     "output_type": "execute_result"
    }
   ],
   "source": [
    "timestamp = pd.to_datetime(date + time, infer_datetime_format=True)\n",
    "timestamp"
   ]
  },
  {
   "cell_type": "code",
   "execution_count": null,
   "metadata": {},
   "outputs": [],
   "source": [
    "direction = direction\n",
    "hour = timestamp.hour\n",
    "holiday = Finland().is_working_day(timestamp)\n",
    "year = timestamp.year\n",
    "month = timestamp.month\n",
    "week = timestamp.week\n",
    "weekday = timestamp.weekday()\n",
    "day = timestamp.day\n",
    "is_weekend = 1 if weekday in [5, 6] else 0"
   ]
  },
  {
   "cell_type": "code",
   "execution_count": null,
   "metadata": {},
   "outputs": [
    {
     "data": {
      "text/plain": [
       "array([1415.62])"
      ]
     },
     "execution_count": 62,
     "metadata": {},
     "output_type": "execute_result"
    }
   ],
   "source": [
    "prediction = model.predict(np.array([0, hour, holiday, year, month, week, weekday, day, is_weekend]).reshape(-1, 1).T)\n",
    "prediction"
   ]
  },
  {
   "cell_type": "code",
   "execution_count": null,
   "metadata": {},
   "outputs": [
    {
     "data": {
      "text/html": [
       "<div>\n",
       "<style scoped>\n",
       "    .dataframe tbody tr th:only-of-type {\n",
       "        vertical-align: middle;\n",
       "    }\n",
       "\n",
       "    .dataframe tbody tr th {\n",
       "        vertical-align: top;\n",
       "    }\n",
       "\n",
       "    .dataframe thead th {\n",
       "        text-align: right;\n",
       "    }\n",
       "</style>\n",
       "<table border=\"1\" class=\"dataframe\">\n",
       "  <thead>\n",
       "    <tr style=\"text-align: right;\">\n",
       "      <th></th>\n",
       "      <th>Unnamed: 0</th>\n",
       "      <th>date</th>\n",
       "      <th>direction</th>\n",
       "      <th>hour</th>\n",
       "      <th>value</th>\n",
       "      <th>holiday</th>\n",
       "      <th>timestamp</th>\n",
       "      <th>year</th>\n",
       "      <th>month</th>\n",
       "      <th>week</th>\n",
       "      <th>weekday</th>\n",
       "      <th>is_weekend</th>\n",
       "      <th>day</th>\n",
       "    </tr>\n",
       "  </thead>\n",
       "  <tbody>\n",
       "    <tr>\n",
       "      <th>0</th>\n",
       "      <td>0</td>\n",
       "      <td>2019-01-12</td>\n",
       "      <td>1</td>\n",
       "      <td>0</td>\n",
       "      <td>218</td>\n",
       "      <td>1</td>\n",
       "      <td>2019-01-12 00:00:00</td>\n",
       "      <td>2019</td>\n",
       "      <td>1</td>\n",
       "      <td>2</td>\n",
       "      <td>5</td>\n",
       "      <td>1</td>\n",
       "      <td>12</td>\n",
       "    </tr>\n",
       "  </tbody>\n",
       "</table>\n",
       "</div>"
      ],
      "text/plain": [
       "   Unnamed: 0        date  direction  hour  value  holiday  \\\n",
       "0           0  2019-01-12          1     0    218        1   \n",
       "\n",
       "             timestamp  year  month  week  weekday  is_weekend  day  \n",
       "0  2019-01-12 00:00:00  2019      1     2        5           1   12  "
      ]
     },
     "execution_count": 44,
     "metadata": {},
     "output_type": "execute_result"
    }
   ],
   "source": [
    "data_copy.head(1)"
   ]
  },
  {
   "cell_type": "code",
   "execution_count": null,
   "metadata": {},
   "outputs": [
    {
     "data": {
      "text/plain": [
       "Unnamed: 0     int64\n",
       "date          object\n",
       "direction      int64\n",
       "hour           int64\n",
       "value          int64\n",
       "holiday        int64\n",
       "timestamp     object\n",
       "year           int64\n",
       "month          int64\n",
       "week           int64\n",
       "weekday        int64\n",
       "is_weekend     int64\n",
       "day            int64\n",
       "dtype: object"
      ]
     },
     "execution_count": 45,
     "metadata": {},
     "output_type": "execute_result"
    }
   ],
   "source": [
    "data_copy.dtypes"
   ]
  },
  {
   "cell_type": "markdown",
   "metadata": {},
   "source": [
    "## Make plots for dash app\n",
    "Let's create an interactive plot that will display the historic values for that selected day in the past for the 24 hours of the day (and both directions)."
   ]
  },
  {
   "cell_type": "code",
   "execution_count": 63,
   "metadata": {},
   "outputs": [
    {
     "data": {
      "application/vnd.plotly.v1+json": {
       "config": {
        "plotlyServerURL": "https://plot.ly"
       },
       "data": [
        {
         "hovertemplate": "direction=1<br>hour=%{x}<br>value=%{y}<extra></extra>",
         "legendgroup": "1",
         "line": {
          "color": "#636efa",
          "dash": "solid"
         },
         "marker": {
          "symbol": "circle"
         },
         "mode": "lines",
         "name": "1",
         "orientation": "v",
         "showlegend": true,
         "type": "scatter",
         "x": [
          0,
          1,
          2,
          3,
          4,
          5,
          6,
          7,
          8,
          9,
          10,
          11,
          12,
          13,
          14,
          15,
          16,
          17,
          18,
          19,
          20,
          21,
          22,
          23
         ],
         "xaxis": "x",
         "y": [
          76,
          56,
          31,
          26,
          42,
          107,
          388,
          862,
          1035,
          848,
          758,
          785,
          868,
          959,
          1439,
          2200,
          2252,
          1753,
          1090,
          766,
          725,
          515,
          241,
          150
         ],
         "yaxis": "y"
        },
        {
         "hovertemplate": "direction=2<br>hour=%{x}<br>value=%{y}<extra></extra>",
         "legendgroup": "2",
         "line": {
          "color": "#EF553B",
          "dash": "solid"
         },
         "marker": {
          "symbol": "circle"
         },
         "mode": "lines",
         "name": "2",
         "orientation": "v",
         "showlegend": true,
         "type": "scatter",
         "x": [
          0,
          1,
          2,
          3,
          4,
          5,
          6,
          7,
          8,
          9,
          10,
          11,
          12,
          13,
          14,
          15,
          16,
          17,
          18,
          19,
          20,
          21,
          22,
          23
         ],
         "xaxis": "x",
         "y": [
          43,
          33,
          23,
          29,
          63,
          339,
          1478,
          2096,
          1992,
          1512,
          931,
          907,
          923,
          817,
          917,
          1107,
          1202,
          1017,
          788,
          633,
          469,
          327,
          177,
          91
         ],
         "yaxis": "y"
        }
       ],
       "layout": {
        "legend": {
         "title": {
          "text": "direction"
         },
         "tracegroupgap": 0
        },
        "margin": {
         "t": 60
        },
        "template": {
         "data": {
          "bar": [
           {
            "error_x": {
             "color": "#2a3f5f"
            },
            "error_y": {
             "color": "#2a3f5f"
            },
            "marker": {
             "line": {
              "color": "#E5ECF6",
              "width": 0.5
             },
             "pattern": {
              "fillmode": "overlay",
              "size": 10,
              "solidity": 0.2
             }
            },
            "type": "bar"
           }
          ],
          "barpolar": [
           {
            "marker": {
             "line": {
              "color": "#E5ECF6",
              "width": 0.5
             },
             "pattern": {
              "fillmode": "overlay",
              "size": 10,
              "solidity": 0.2
             }
            },
            "type": "barpolar"
           }
          ],
          "carpet": [
           {
            "aaxis": {
             "endlinecolor": "#2a3f5f",
             "gridcolor": "white",
             "linecolor": "white",
             "minorgridcolor": "white",
             "startlinecolor": "#2a3f5f"
            },
            "baxis": {
             "endlinecolor": "#2a3f5f",
             "gridcolor": "white",
             "linecolor": "white",
             "minorgridcolor": "white",
             "startlinecolor": "#2a3f5f"
            },
            "type": "carpet"
           }
          ],
          "choropleth": [
           {
            "colorbar": {
             "outlinewidth": 0,
             "ticks": ""
            },
            "type": "choropleth"
           }
          ],
          "contour": [
           {
            "colorbar": {
             "outlinewidth": 0,
             "ticks": ""
            },
            "colorscale": [
             [
              0,
              "#0d0887"
             ],
             [
              0.1111111111111111,
              "#46039f"
             ],
             [
              0.2222222222222222,
              "#7201a8"
             ],
             [
              0.3333333333333333,
              "#9c179e"
             ],
             [
              0.4444444444444444,
              "#bd3786"
             ],
             [
              0.5555555555555556,
              "#d8576b"
             ],
             [
              0.6666666666666666,
              "#ed7953"
             ],
             [
              0.7777777777777778,
              "#fb9f3a"
             ],
             [
              0.8888888888888888,
              "#fdca26"
             ],
             [
              1,
              "#f0f921"
             ]
            ],
            "type": "contour"
           }
          ],
          "contourcarpet": [
           {
            "colorbar": {
             "outlinewidth": 0,
             "ticks": ""
            },
            "type": "contourcarpet"
           }
          ],
          "heatmap": [
           {
            "colorbar": {
             "outlinewidth": 0,
             "ticks": ""
            },
            "colorscale": [
             [
              0,
              "#0d0887"
             ],
             [
              0.1111111111111111,
              "#46039f"
             ],
             [
              0.2222222222222222,
              "#7201a8"
             ],
             [
              0.3333333333333333,
              "#9c179e"
             ],
             [
              0.4444444444444444,
              "#bd3786"
             ],
             [
              0.5555555555555556,
              "#d8576b"
             ],
             [
              0.6666666666666666,
              "#ed7953"
             ],
             [
              0.7777777777777778,
              "#fb9f3a"
             ],
             [
              0.8888888888888888,
              "#fdca26"
             ],
             [
              1,
              "#f0f921"
             ]
            ],
            "type": "heatmap"
           }
          ],
          "heatmapgl": [
           {
            "colorbar": {
             "outlinewidth": 0,
             "ticks": ""
            },
            "colorscale": [
             [
              0,
              "#0d0887"
             ],
             [
              0.1111111111111111,
              "#46039f"
             ],
             [
              0.2222222222222222,
              "#7201a8"
             ],
             [
              0.3333333333333333,
              "#9c179e"
             ],
             [
              0.4444444444444444,
              "#bd3786"
             ],
             [
              0.5555555555555556,
              "#d8576b"
             ],
             [
              0.6666666666666666,
              "#ed7953"
             ],
             [
              0.7777777777777778,
              "#fb9f3a"
             ],
             [
              0.8888888888888888,
              "#fdca26"
             ],
             [
              1,
              "#f0f921"
             ]
            ],
            "type": "heatmapgl"
           }
          ],
          "histogram": [
           {
            "marker": {
             "pattern": {
              "fillmode": "overlay",
              "size": 10,
              "solidity": 0.2
             }
            },
            "type": "histogram"
           }
          ],
          "histogram2d": [
           {
            "colorbar": {
             "outlinewidth": 0,
             "ticks": ""
            },
            "colorscale": [
             [
              0,
              "#0d0887"
             ],
             [
              0.1111111111111111,
              "#46039f"
             ],
             [
              0.2222222222222222,
              "#7201a8"
             ],
             [
              0.3333333333333333,
              "#9c179e"
             ],
             [
              0.4444444444444444,
              "#bd3786"
             ],
             [
              0.5555555555555556,
              "#d8576b"
             ],
             [
              0.6666666666666666,
              "#ed7953"
             ],
             [
              0.7777777777777778,
              "#fb9f3a"
             ],
             [
              0.8888888888888888,
              "#fdca26"
             ],
             [
              1,
              "#f0f921"
             ]
            ],
            "type": "histogram2d"
           }
          ],
          "histogram2dcontour": [
           {
            "colorbar": {
             "outlinewidth": 0,
             "ticks": ""
            },
            "colorscale": [
             [
              0,
              "#0d0887"
             ],
             [
              0.1111111111111111,
              "#46039f"
             ],
             [
              0.2222222222222222,
              "#7201a8"
             ],
             [
              0.3333333333333333,
              "#9c179e"
             ],
             [
              0.4444444444444444,
              "#bd3786"
             ],
             [
              0.5555555555555556,
              "#d8576b"
             ],
             [
              0.6666666666666666,
              "#ed7953"
             ],
             [
              0.7777777777777778,
              "#fb9f3a"
             ],
             [
              0.8888888888888888,
              "#fdca26"
             ],
             [
              1,
              "#f0f921"
             ]
            ],
            "type": "histogram2dcontour"
           }
          ],
          "mesh3d": [
           {
            "colorbar": {
             "outlinewidth": 0,
             "ticks": ""
            },
            "type": "mesh3d"
           }
          ],
          "parcoords": [
           {
            "line": {
             "colorbar": {
              "outlinewidth": 0,
              "ticks": ""
             }
            },
            "type": "parcoords"
           }
          ],
          "pie": [
           {
            "automargin": true,
            "type": "pie"
           }
          ],
          "scatter": [
           {
            "marker": {
             "colorbar": {
              "outlinewidth": 0,
              "ticks": ""
             }
            },
            "type": "scatter"
           }
          ],
          "scatter3d": [
           {
            "line": {
             "colorbar": {
              "outlinewidth": 0,
              "ticks": ""
             }
            },
            "marker": {
             "colorbar": {
              "outlinewidth": 0,
              "ticks": ""
             }
            },
            "type": "scatter3d"
           }
          ],
          "scattercarpet": [
           {
            "marker": {
             "colorbar": {
              "outlinewidth": 0,
              "ticks": ""
             }
            },
            "type": "scattercarpet"
           }
          ],
          "scattergeo": [
           {
            "marker": {
             "colorbar": {
              "outlinewidth": 0,
              "ticks": ""
             }
            },
            "type": "scattergeo"
           }
          ],
          "scattergl": [
           {
            "marker": {
             "colorbar": {
              "outlinewidth": 0,
              "ticks": ""
             }
            },
            "type": "scattergl"
           }
          ],
          "scattermapbox": [
           {
            "marker": {
             "colorbar": {
              "outlinewidth": 0,
              "ticks": ""
             }
            },
            "type": "scattermapbox"
           }
          ],
          "scatterpolar": [
           {
            "marker": {
             "colorbar": {
              "outlinewidth": 0,
              "ticks": ""
             }
            },
            "type": "scatterpolar"
           }
          ],
          "scatterpolargl": [
           {
            "marker": {
             "colorbar": {
              "outlinewidth": 0,
              "ticks": ""
             }
            },
            "type": "scatterpolargl"
           }
          ],
          "scatterternary": [
           {
            "marker": {
             "colorbar": {
              "outlinewidth": 0,
              "ticks": ""
             }
            },
            "type": "scatterternary"
           }
          ],
          "surface": [
           {
            "colorbar": {
             "outlinewidth": 0,
             "ticks": ""
            },
            "colorscale": [
             [
              0,
              "#0d0887"
             ],
             [
              0.1111111111111111,
              "#46039f"
             ],
             [
              0.2222222222222222,
              "#7201a8"
             ],
             [
              0.3333333333333333,
              "#9c179e"
             ],
             [
              0.4444444444444444,
              "#bd3786"
             ],
             [
              0.5555555555555556,
              "#d8576b"
             ],
             [
              0.6666666666666666,
              "#ed7953"
             ],
             [
              0.7777777777777778,
              "#fb9f3a"
             ],
             [
              0.8888888888888888,
              "#fdca26"
             ],
             [
              1,
              "#f0f921"
             ]
            ],
            "type": "surface"
           }
          ],
          "table": [
           {
            "cells": {
             "fill": {
              "color": "#EBF0F8"
             },
             "line": {
              "color": "white"
             }
            },
            "header": {
             "fill": {
              "color": "#C8D4E3"
             },
             "line": {
              "color": "white"
             }
            },
            "type": "table"
           }
          ]
         },
         "layout": {
          "annotationdefaults": {
           "arrowcolor": "#2a3f5f",
           "arrowhead": 0,
           "arrowwidth": 1
          },
          "autotypenumbers": "strict",
          "coloraxis": {
           "colorbar": {
            "outlinewidth": 0,
            "ticks": ""
           }
          },
          "colorscale": {
           "diverging": [
            [
             0,
             "#8e0152"
            ],
            [
             0.1,
             "#c51b7d"
            ],
            [
             0.2,
             "#de77ae"
            ],
            [
             0.3,
             "#f1b6da"
            ],
            [
             0.4,
             "#fde0ef"
            ],
            [
             0.5,
             "#f7f7f7"
            ],
            [
             0.6,
             "#e6f5d0"
            ],
            [
             0.7,
             "#b8e186"
            ],
            [
             0.8,
             "#7fbc41"
            ],
            [
             0.9,
             "#4d9221"
            ],
            [
             1,
             "#276419"
            ]
           ],
           "sequential": [
            [
             0,
             "#0d0887"
            ],
            [
             0.1111111111111111,
             "#46039f"
            ],
            [
             0.2222222222222222,
             "#7201a8"
            ],
            [
             0.3333333333333333,
             "#9c179e"
            ],
            [
             0.4444444444444444,
             "#bd3786"
            ],
            [
             0.5555555555555556,
             "#d8576b"
            ],
            [
             0.6666666666666666,
             "#ed7953"
            ],
            [
             0.7777777777777778,
             "#fb9f3a"
            ],
            [
             0.8888888888888888,
             "#fdca26"
            ],
            [
             1,
             "#f0f921"
            ]
           ],
           "sequentialminus": [
            [
             0,
             "#0d0887"
            ],
            [
             0.1111111111111111,
             "#46039f"
            ],
            [
             0.2222222222222222,
             "#7201a8"
            ],
            [
             0.3333333333333333,
             "#9c179e"
            ],
            [
             0.4444444444444444,
             "#bd3786"
            ],
            [
             0.5555555555555556,
             "#d8576b"
            ],
            [
             0.6666666666666666,
             "#ed7953"
            ],
            [
             0.7777777777777778,
             "#fb9f3a"
            ],
            [
             0.8888888888888888,
             "#fdca26"
            ],
            [
             1,
             "#f0f921"
            ]
           ]
          },
          "colorway": [
           "#636efa",
           "#EF553B",
           "#00cc96",
           "#ab63fa",
           "#FFA15A",
           "#19d3f3",
           "#FF6692",
           "#B6E880",
           "#FF97FF",
           "#FECB52"
          ],
          "font": {
           "color": "#2a3f5f"
          },
          "geo": {
           "bgcolor": "white",
           "lakecolor": "white",
           "landcolor": "#E5ECF6",
           "showlakes": true,
           "showland": true,
           "subunitcolor": "white"
          },
          "hoverlabel": {
           "align": "left"
          },
          "hovermode": "closest",
          "mapbox": {
           "style": "light"
          },
          "paper_bgcolor": "white",
          "plot_bgcolor": "#E5ECF6",
          "polar": {
           "angularaxis": {
            "gridcolor": "white",
            "linecolor": "white",
            "ticks": ""
           },
           "bgcolor": "#E5ECF6",
           "radialaxis": {
            "gridcolor": "white",
            "linecolor": "white",
            "ticks": ""
           }
          },
          "scene": {
           "xaxis": {
            "backgroundcolor": "#E5ECF6",
            "gridcolor": "white",
            "gridwidth": 2,
            "linecolor": "white",
            "showbackground": true,
            "ticks": "",
            "zerolinecolor": "white"
           },
           "yaxis": {
            "backgroundcolor": "#E5ECF6",
            "gridcolor": "white",
            "gridwidth": 2,
            "linecolor": "white",
            "showbackground": true,
            "ticks": "",
            "zerolinecolor": "white"
           },
           "zaxis": {
            "backgroundcolor": "#E5ECF6",
            "gridcolor": "white",
            "gridwidth": 2,
            "linecolor": "white",
            "showbackground": true,
            "ticks": "",
            "zerolinecolor": "white"
           }
          },
          "shapedefaults": {
           "line": {
            "color": "#2a3f5f"
           }
          },
          "ternary": {
           "aaxis": {
            "gridcolor": "white",
            "linecolor": "white",
            "ticks": ""
           },
           "baxis": {
            "gridcolor": "white",
            "linecolor": "white",
            "ticks": ""
           },
           "bgcolor": "#E5ECF6",
           "caxis": {
            "gridcolor": "white",
            "linecolor": "white",
            "ticks": ""
           }
          },
          "title": {
           "x": 0.05
          },
          "xaxis": {
           "automargin": true,
           "gridcolor": "white",
           "linecolor": "white",
           "ticks": "",
           "title": {
            "standoff": 15
           },
           "zerolinecolor": "white",
           "zerolinewidth": 2
          },
          "yaxis": {
           "automargin": true,
           "gridcolor": "white",
           "linecolor": "white",
           "ticks": "",
           "title": {
            "standoff": 15
           },
           "zerolinecolor": "white",
           "zerolinewidth": 2
          }
         }
        },
        "xaxis": {
         "anchor": "y",
         "domain": [
          0,
          1
         ],
         "title": {
          "text": "hour"
         }
        },
        "yaxis": {
         "anchor": "x",
         "domain": [
          0,
          1
         ],
         "title": {
          "text": "value"
         }
        }
       }
      }
     },
     "metadata": {},
     "output_type": "display_data"
    }
   ],
   "source": [
    "date = '2019-02-12'\n",
    "px.line(data[data.date==date], x='hour', y='value', color='direction')"
   ]
  },
  {
   "cell_type": "code",
   "execution_count": 95,
   "metadata": {},
   "outputs": [
    {
     "data": {
      "text/html": [
       "<div>\n",
       "<style scoped>\n",
       "    .dataframe tbody tr th:only-of-type {\n",
       "        vertical-align: middle;\n",
       "    }\n",
       "\n",
       "    .dataframe tbody tr th {\n",
       "        vertical-align: top;\n",
       "    }\n",
       "\n",
       "    .dataframe thead th {\n",
       "        text-align: right;\n",
       "    }\n",
       "</style>\n",
       "<table border=\"1\" class=\"dataframe\">\n",
       "  <thead>\n",
       "    <tr style=\"text-align: right;\">\n",
       "      <th></th>\n",
       "      <th>date</th>\n",
       "      <th>direction</th>\n",
       "      <th>hour</th>\n",
       "      <th>value</th>\n",
       "      <th>holiday</th>\n",
       "      <th>timestamp</th>\n",
       "      <th>year</th>\n",
       "      <th>month</th>\n",
       "      <th>week</th>\n",
       "      <th>weekday</th>\n",
       "      <th>is_weekend</th>\n",
       "      <th>day</th>\n",
       "    </tr>\n",
       "  </thead>\n",
       "  <tbody>\n",
       "    <tr>\n",
       "      <th>48</th>\n",
       "      <td>2019-02-12</td>\n",
       "      <td>outwards</td>\n",
       "      <td>0</td>\n",
       "      <td>76</td>\n",
       "      <td>0</td>\n",
       "      <td>2019-02-12 00:00:00</td>\n",
       "      <td>2019</td>\n",
       "      <td>2</td>\n",
       "      <td>7</td>\n",
       "      <td>1</td>\n",
       "      <td>0</td>\n",
       "      <td>12</td>\n",
       "    </tr>\n",
       "    <tr>\n",
       "      <th>49</th>\n",
       "      <td>2019-02-12</td>\n",
       "      <td>outwards</td>\n",
       "      <td>1</td>\n",
       "      <td>56</td>\n",
       "      <td>0</td>\n",
       "      <td>2019-02-12 01:00:00</td>\n",
       "      <td>2019</td>\n",
       "      <td>2</td>\n",
       "      <td>7</td>\n",
       "      <td>1</td>\n",
       "      <td>0</td>\n",
       "      <td>12</td>\n",
       "    </tr>\n",
       "    <tr>\n",
       "      <th>50</th>\n",
       "      <td>2019-02-12</td>\n",
       "      <td>outwards</td>\n",
       "      <td>2</td>\n",
       "      <td>31</td>\n",
       "      <td>0</td>\n",
       "      <td>2019-02-12 02:00:00</td>\n",
       "      <td>2019</td>\n",
       "      <td>2</td>\n",
       "      <td>7</td>\n",
       "      <td>1</td>\n",
       "      <td>0</td>\n",
       "      <td>12</td>\n",
       "    </tr>\n",
       "    <tr>\n",
       "      <th>51</th>\n",
       "      <td>2019-02-12</td>\n",
       "      <td>outwards</td>\n",
       "      <td>3</td>\n",
       "      <td>26</td>\n",
       "      <td>0</td>\n",
       "      <td>2019-02-12 03:00:00</td>\n",
       "      <td>2019</td>\n",
       "      <td>2</td>\n",
       "      <td>7</td>\n",
       "      <td>1</td>\n",
       "      <td>0</td>\n",
       "      <td>12</td>\n",
       "    </tr>\n",
       "    <tr>\n",
       "      <th>52</th>\n",
       "      <td>2019-02-12</td>\n",
       "      <td>outwards</td>\n",
       "      <td>4</td>\n",
       "      <td>42</td>\n",
       "      <td>0</td>\n",
       "      <td>2019-02-12 04:00:00</td>\n",
       "      <td>2019</td>\n",
       "      <td>2</td>\n",
       "      <td>7</td>\n",
       "      <td>1</td>\n",
       "      <td>0</td>\n",
       "      <td>12</td>\n",
       "    </tr>\n",
       "    <tr>\n",
       "      <th>...</th>\n",
       "      <td>...</td>\n",
       "      <td>...</td>\n",
       "      <td>...</td>\n",
       "      <td>...</td>\n",
       "      <td>...</td>\n",
       "      <td>...</td>\n",
       "      <td>...</td>\n",
       "      <td>...</td>\n",
       "      <td>...</td>\n",
       "      <td>...</td>\n",
       "      <td>...</td>\n",
       "      <td>...</td>\n",
       "    </tr>\n",
       "    <tr>\n",
       "      <th>3547</th>\n",
       "      <td>2020-02-12</td>\n",
       "      <td>2</td>\n",
       "      <td>19</td>\n",
       "      <td>546</td>\n",
       "      <td>0</td>\n",
       "      <td>2020-02-12 19:00:00</td>\n",
       "      <td>2020</td>\n",
       "      <td>2</td>\n",
       "      <td>7</td>\n",
       "      <td>2</td>\n",
       "      <td>0</td>\n",
       "      <td>12</td>\n",
       "    </tr>\n",
       "    <tr>\n",
       "      <th>3548</th>\n",
       "      <td>2020-02-12</td>\n",
       "      <td>2</td>\n",
       "      <td>20</td>\n",
       "      <td>413</td>\n",
       "      <td>0</td>\n",
       "      <td>2020-02-12 20:00:00</td>\n",
       "      <td>2020</td>\n",
       "      <td>2</td>\n",
       "      <td>7</td>\n",
       "      <td>2</td>\n",
       "      <td>0</td>\n",
       "      <td>12</td>\n",
       "    </tr>\n",
       "    <tr>\n",
       "      <th>3549</th>\n",
       "      <td>2020-02-12</td>\n",
       "      <td>2</td>\n",
       "      <td>21</td>\n",
       "      <td>251</td>\n",
       "      <td>0</td>\n",
       "      <td>2020-02-12 21:00:00</td>\n",
       "      <td>2020</td>\n",
       "      <td>2</td>\n",
       "      <td>7</td>\n",
       "      <td>2</td>\n",
       "      <td>0</td>\n",
       "      <td>12</td>\n",
       "    </tr>\n",
       "    <tr>\n",
       "      <th>3550</th>\n",
       "      <td>2020-02-12</td>\n",
       "      <td>2</td>\n",
       "      <td>22</td>\n",
       "      <td>121</td>\n",
       "      <td>0</td>\n",
       "      <td>2020-02-12 22:00:00</td>\n",
       "      <td>2020</td>\n",
       "      <td>2</td>\n",
       "      <td>7</td>\n",
       "      <td>2</td>\n",
       "      <td>0</td>\n",
       "      <td>12</td>\n",
       "    </tr>\n",
       "    <tr>\n",
       "      <th>3551</th>\n",
       "      <td>2020-02-12</td>\n",
       "      <td>2</td>\n",
       "      <td>23</td>\n",
       "      <td>76</td>\n",
       "      <td>0</td>\n",
       "      <td>2020-02-12 23:00:00</td>\n",
       "      <td>2020</td>\n",
       "      <td>2</td>\n",
       "      <td>7</td>\n",
       "      <td>2</td>\n",
       "      <td>0</td>\n",
       "      <td>12</td>\n",
       "    </tr>\n",
       "  </tbody>\n",
       "</table>\n",
       "<p>96 rows × 12 columns</p>\n",
       "</div>"
      ],
      "text/plain": [
       "           date direction  hour  value  holiday           timestamp  year  \\\n",
       "48   2019-02-12  outwards     0     76        0 2019-02-12 00:00:00  2019   \n",
       "49   2019-02-12  outwards     1     56        0 2019-02-12 01:00:00  2019   \n",
       "50   2019-02-12  outwards     2     31        0 2019-02-12 02:00:00  2019   \n",
       "51   2019-02-12  outwards     3     26        0 2019-02-12 03:00:00  2019   \n",
       "52   2019-02-12  outwards     4     42        0 2019-02-12 04:00:00  2019   \n",
       "...         ...       ...   ...    ...      ...                 ...   ...   \n",
       "3547 2020-02-12         2    19    546        0 2020-02-12 19:00:00  2020   \n",
       "3548 2020-02-12         2    20    413        0 2020-02-12 20:00:00  2020   \n",
       "3549 2020-02-12         2    21    251        0 2020-02-12 21:00:00  2020   \n",
       "3550 2020-02-12         2    22    121        0 2020-02-12 22:00:00  2020   \n",
       "3551 2020-02-12         2    23     76        0 2020-02-12 23:00:00  2020   \n",
       "\n",
       "      month  week  weekday  is_weekend  day  \n",
       "48        2     7        1           0   12  \n",
       "49        2     7        1           0   12  \n",
       "50        2     7        1           0   12  \n",
       "51        2     7        1           0   12  \n",
       "52        2     7        1           0   12  \n",
       "...     ...   ...      ...         ...  ...  \n",
       "3547      2     7        2           0   12  \n",
       "3548      2     7        2           0   12  \n",
       "3549      2     7        2           0   12  \n",
       "3550      2     7        2           0   12  \n",
       "3551      2     7        2           0   12  \n",
       "\n",
       "[96 rows x 12 columns]"
      ]
     },
     "execution_count": 95,
     "metadata": {},
     "output_type": "execute_result"
    }
   ],
   "source": [
    "date_data"
   ]
  },
  {
   "cell_type": "code",
   "execution_count": 96,
   "metadata": {},
   "outputs": [
    {
     "name": "stderr",
     "output_type": "stream",
     "text": [
      "C:\\Users\\ansni\\anaconda3\\envs\\IDS\\lib\\site-packages\\pandas\\core\\generic.py:6619: SettingWithCopyWarning:\n",
      "\n",
      "\n",
      "A value is trying to be set on a copy of a slice from a DataFrame\n",
      "\n",
      "See the caveats in the documentation: https://pandas.pydata.org/pandas-docs/stable/user_guide/indexing.html#returning-a-view-versus-a-copy\n",
      "\n"
     ]
    },
    {
     "data": {
      "application/vnd.plotly.v1+json": {
       "config": {
        "plotlyServerURL": "https://plot.ly"
       },
       "data": [
        {
         "hovertemplate": "year=2019<br>direction=Centre<br>hour=%{x}<br>value=%{y}<extra></extra>",
         "legendgroup": "2019, Centre",
         "line": {
          "color": "#636efa",
          "dash": "solid"
         },
         "marker": {
          "symbol": "circle"
         },
         "mode": "lines",
         "name": "2019, Centre",
         "orientation": "v",
         "showlegend": true,
         "type": "scatter",
         "x": [
          0,
          1,
          2,
          3,
          4,
          5,
          6,
          7,
          8,
          9,
          10,
          11,
          12,
          13,
          14,
          15,
          16,
          17,
          18,
          19,
          20,
          21,
          22,
          23
         ],
         "xaxis": "x",
         "y": [
          76,
          56,
          31,
          26,
          42,
          107,
          388,
          862,
          1035,
          848,
          758,
          785,
          868,
          959,
          1439,
          2200,
          2252,
          1753,
          1090,
          766,
          725,
          515,
          241,
          150
         ],
         "yaxis": "y"
        },
        {
         "hovertemplate": "year=2019<br>direction=Outskirts<br>hour=%{x}<br>value=%{y}<extra></extra>",
         "legendgroup": "2019, Outskirts",
         "line": {
          "color": "#636efa",
          "dash": "dot"
         },
         "marker": {
          "symbol": "circle"
         },
         "mode": "lines",
         "name": "2019, Outskirts",
         "orientation": "v",
         "showlegend": true,
         "type": "scatter",
         "x": [
          0,
          1,
          2,
          3,
          4,
          5,
          6,
          7,
          8,
          9,
          10,
          11,
          12,
          13,
          14,
          15,
          16,
          17,
          18,
          19,
          20,
          21,
          22,
          23
         ],
         "xaxis": "x",
         "y": [
          43,
          33,
          23,
          29,
          63,
          339,
          1478,
          2096,
          1992,
          1512,
          931,
          907,
          923,
          817,
          917,
          1107,
          1202,
          1017,
          788,
          633,
          469,
          327,
          177,
          91
         ],
         "yaxis": "y"
        },
        {
         "hovertemplate": "year=2020<br>direction=Centre<br>hour=%{x}<br>value=%{y}<extra></extra>",
         "legendgroup": "2020, Centre",
         "line": {
          "color": "#EF553B",
          "dash": "solid"
         },
         "marker": {
          "symbol": "circle"
         },
         "mode": "lines",
         "name": "2020, Centre",
         "orientation": "v",
         "showlegend": true,
         "type": "scatter",
         "x": [
          0,
          1,
          2,
          3,
          4,
          5,
          6,
          7,
          8,
          9,
          10,
          11,
          12,
          13,
          14,
          15,
          16,
          17,
          18,
          19,
          20,
          21,
          22,
          23
         ],
         "xaxis": "x",
         "y": [
          48,
          35,
          39,
          15,
          26,
          81,
          336,
          670,
          814,
          617,
          669,
          764,
          765,
          885,
          1109,
          1585,
          1380,
          1104,
          823,
          613,
          475,
          314,
          212,
          113
         ],
         "yaxis": "y"
        },
        {
         "hovertemplate": "year=2020<br>direction=Outskirts<br>hour=%{x}<br>value=%{y}<extra></extra>",
         "legendgroup": "2020, Outskirts",
         "line": {
          "color": "#EF553B",
          "dash": "dot"
         },
         "marker": {
          "symbol": "circle"
         },
         "mode": "lines",
         "name": "2020, Outskirts",
         "orientation": "v",
         "showlegend": true,
         "type": "scatter",
         "x": [
          0,
          1,
          2,
          3,
          4,
          5,
          6,
          7,
          8,
          9,
          10,
          11,
          12,
          13,
          14,
          15,
          16,
          17,
          18,
          19,
          20,
          21,
          22,
          23
         ],
         "xaxis": "x",
         "y": [
          49,
          20,
          17,
          26,
          52,
          293,
          1126,
          1471,
          1357,
          968,
          782,
          777,
          783,
          847,
          823,
          930,
          961,
          809,
          634,
          546,
          413,
          251,
          121,
          76
         ],
         "yaxis": "y"
        }
       ],
       "layout": {
        "legend": {
         "title": {
          "text": "year, direction"
         },
         "tracegroupgap": 0
        },
        "margin": {
         "t": 60
        },
        "template": {
         "data": {
          "bar": [
           {
            "error_x": {
             "color": "#2a3f5f"
            },
            "error_y": {
             "color": "#2a3f5f"
            },
            "marker": {
             "line": {
              "color": "#E5ECF6",
              "width": 0.5
             },
             "pattern": {
              "fillmode": "overlay",
              "size": 10,
              "solidity": 0.2
             }
            },
            "type": "bar"
           }
          ],
          "barpolar": [
           {
            "marker": {
             "line": {
              "color": "#E5ECF6",
              "width": 0.5
             },
             "pattern": {
              "fillmode": "overlay",
              "size": 10,
              "solidity": 0.2
             }
            },
            "type": "barpolar"
           }
          ],
          "carpet": [
           {
            "aaxis": {
             "endlinecolor": "#2a3f5f",
             "gridcolor": "white",
             "linecolor": "white",
             "minorgridcolor": "white",
             "startlinecolor": "#2a3f5f"
            },
            "baxis": {
             "endlinecolor": "#2a3f5f",
             "gridcolor": "white",
             "linecolor": "white",
             "minorgridcolor": "white",
             "startlinecolor": "#2a3f5f"
            },
            "type": "carpet"
           }
          ],
          "choropleth": [
           {
            "colorbar": {
             "outlinewidth": 0,
             "ticks": ""
            },
            "type": "choropleth"
           }
          ],
          "contour": [
           {
            "colorbar": {
             "outlinewidth": 0,
             "ticks": ""
            },
            "colorscale": [
             [
              0,
              "#0d0887"
             ],
             [
              0.1111111111111111,
              "#46039f"
             ],
             [
              0.2222222222222222,
              "#7201a8"
             ],
             [
              0.3333333333333333,
              "#9c179e"
             ],
             [
              0.4444444444444444,
              "#bd3786"
             ],
             [
              0.5555555555555556,
              "#d8576b"
             ],
             [
              0.6666666666666666,
              "#ed7953"
             ],
             [
              0.7777777777777778,
              "#fb9f3a"
             ],
             [
              0.8888888888888888,
              "#fdca26"
             ],
             [
              1,
              "#f0f921"
             ]
            ],
            "type": "contour"
           }
          ],
          "contourcarpet": [
           {
            "colorbar": {
             "outlinewidth": 0,
             "ticks": ""
            },
            "type": "contourcarpet"
           }
          ],
          "heatmap": [
           {
            "colorbar": {
             "outlinewidth": 0,
             "ticks": ""
            },
            "colorscale": [
             [
              0,
              "#0d0887"
             ],
             [
              0.1111111111111111,
              "#46039f"
             ],
             [
              0.2222222222222222,
              "#7201a8"
             ],
             [
              0.3333333333333333,
              "#9c179e"
             ],
             [
              0.4444444444444444,
              "#bd3786"
             ],
             [
              0.5555555555555556,
              "#d8576b"
             ],
             [
              0.6666666666666666,
              "#ed7953"
             ],
             [
              0.7777777777777778,
              "#fb9f3a"
             ],
             [
              0.8888888888888888,
              "#fdca26"
             ],
             [
              1,
              "#f0f921"
             ]
            ],
            "type": "heatmap"
           }
          ],
          "heatmapgl": [
           {
            "colorbar": {
             "outlinewidth": 0,
             "ticks": ""
            },
            "colorscale": [
             [
              0,
              "#0d0887"
             ],
             [
              0.1111111111111111,
              "#46039f"
             ],
             [
              0.2222222222222222,
              "#7201a8"
             ],
             [
              0.3333333333333333,
              "#9c179e"
             ],
             [
              0.4444444444444444,
              "#bd3786"
             ],
             [
              0.5555555555555556,
              "#d8576b"
             ],
             [
              0.6666666666666666,
              "#ed7953"
             ],
             [
              0.7777777777777778,
              "#fb9f3a"
             ],
             [
              0.8888888888888888,
              "#fdca26"
             ],
             [
              1,
              "#f0f921"
             ]
            ],
            "type": "heatmapgl"
           }
          ],
          "histogram": [
           {
            "marker": {
             "pattern": {
              "fillmode": "overlay",
              "size": 10,
              "solidity": 0.2
             }
            },
            "type": "histogram"
           }
          ],
          "histogram2d": [
           {
            "colorbar": {
             "outlinewidth": 0,
             "ticks": ""
            },
            "colorscale": [
             [
              0,
              "#0d0887"
             ],
             [
              0.1111111111111111,
              "#46039f"
             ],
             [
              0.2222222222222222,
              "#7201a8"
             ],
             [
              0.3333333333333333,
              "#9c179e"
             ],
             [
              0.4444444444444444,
              "#bd3786"
             ],
             [
              0.5555555555555556,
              "#d8576b"
             ],
             [
              0.6666666666666666,
              "#ed7953"
             ],
             [
              0.7777777777777778,
              "#fb9f3a"
             ],
             [
              0.8888888888888888,
              "#fdca26"
             ],
             [
              1,
              "#f0f921"
             ]
            ],
            "type": "histogram2d"
           }
          ],
          "histogram2dcontour": [
           {
            "colorbar": {
             "outlinewidth": 0,
             "ticks": ""
            },
            "colorscale": [
             [
              0,
              "#0d0887"
             ],
             [
              0.1111111111111111,
              "#46039f"
             ],
             [
              0.2222222222222222,
              "#7201a8"
             ],
             [
              0.3333333333333333,
              "#9c179e"
             ],
             [
              0.4444444444444444,
              "#bd3786"
             ],
             [
              0.5555555555555556,
              "#d8576b"
             ],
             [
              0.6666666666666666,
              "#ed7953"
             ],
             [
              0.7777777777777778,
              "#fb9f3a"
             ],
             [
              0.8888888888888888,
              "#fdca26"
             ],
             [
              1,
              "#f0f921"
             ]
            ],
            "type": "histogram2dcontour"
           }
          ],
          "mesh3d": [
           {
            "colorbar": {
             "outlinewidth": 0,
             "ticks": ""
            },
            "type": "mesh3d"
           }
          ],
          "parcoords": [
           {
            "line": {
             "colorbar": {
              "outlinewidth": 0,
              "ticks": ""
             }
            },
            "type": "parcoords"
           }
          ],
          "pie": [
           {
            "automargin": true,
            "type": "pie"
           }
          ],
          "scatter": [
           {
            "marker": {
             "colorbar": {
              "outlinewidth": 0,
              "ticks": ""
             }
            },
            "type": "scatter"
           }
          ],
          "scatter3d": [
           {
            "line": {
             "colorbar": {
              "outlinewidth": 0,
              "ticks": ""
             }
            },
            "marker": {
             "colorbar": {
              "outlinewidth": 0,
              "ticks": ""
             }
            },
            "type": "scatter3d"
           }
          ],
          "scattercarpet": [
           {
            "marker": {
             "colorbar": {
              "outlinewidth": 0,
              "ticks": ""
             }
            },
            "type": "scattercarpet"
           }
          ],
          "scattergeo": [
           {
            "marker": {
             "colorbar": {
              "outlinewidth": 0,
              "ticks": ""
             }
            },
            "type": "scattergeo"
           }
          ],
          "scattergl": [
           {
            "marker": {
             "colorbar": {
              "outlinewidth": 0,
              "ticks": ""
             }
            },
            "type": "scattergl"
           }
          ],
          "scattermapbox": [
           {
            "marker": {
             "colorbar": {
              "outlinewidth": 0,
              "ticks": ""
             }
            },
            "type": "scattermapbox"
           }
          ],
          "scatterpolar": [
           {
            "marker": {
             "colorbar": {
              "outlinewidth": 0,
              "ticks": ""
             }
            },
            "type": "scatterpolar"
           }
          ],
          "scatterpolargl": [
           {
            "marker": {
             "colorbar": {
              "outlinewidth": 0,
              "ticks": ""
             }
            },
            "type": "scatterpolargl"
           }
          ],
          "scatterternary": [
           {
            "marker": {
             "colorbar": {
              "outlinewidth": 0,
              "ticks": ""
             }
            },
            "type": "scatterternary"
           }
          ],
          "surface": [
           {
            "colorbar": {
             "outlinewidth": 0,
             "ticks": ""
            },
            "colorscale": [
             [
              0,
              "#0d0887"
             ],
             [
              0.1111111111111111,
              "#46039f"
             ],
             [
              0.2222222222222222,
              "#7201a8"
             ],
             [
              0.3333333333333333,
              "#9c179e"
             ],
             [
              0.4444444444444444,
              "#bd3786"
             ],
             [
              0.5555555555555556,
              "#d8576b"
             ],
             [
              0.6666666666666666,
              "#ed7953"
             ],
             [
              0.7777777777777778,
              "#fb9f3a"
             ],
             [
              0.8888888888888888,
              "#fdca26"
             ],
             [
              1,
              "#f0f921"
             ]
            ],
            "type": "surface"
           }
          ],
          "table": [
           {
            "cells": {
             "fill": {
              "color": "#EBF0F8"
             },
             "line": {
              "color": "white"
             }
            },
            "header": {
             "fill": {
              "color": "#C8D4E3"
             },
             "line": {
              "color": "white"
             }
            },
            "type": "table"
           }
          ]
         },
         "layout": {
          "annotationdefaults": {
           "arrowcolor": "#2a3f5f",
           "arrowhead": 0,
           "arrowwidth": 1
          },
          "autotypenumbers": "strict",
          "coloraxis": {
           "colorbar": {
            "outlinewidth": 0,
            "ticks": ""
           }
          },
          "colorscale": {
           "diverging": [
            [
             0,
             "#8e0152"
            ],
            [
             0.1,
             "#c51b7d"
            ],
            [
             0.2,
             "#de77ae"
            ],
            [
             0.3,
             "#f1b6da"
            ],
            [
             0.4,
             "#fde0ef"
            ],
            [
             0.5,
             "#f7f7f7"
            ],
            [
             0.6,
             "#e6f5d0"
            ],
            [
             0.7,
             "#b8e186"
            ],
            [
             0.8,
             "#7fbc41"
            ],
            [
             0.9,
             "#4d9221"
            ],
            [
             1,
             "#276419"
            ]
           ],
           "sequential": [
            [
             0,
             "#0d0887"
            ],
            [
             0.1111111111111111,
             "#46039f"
            ],
            [
             0.2222222222222222,
             "#7201a8"
            ],
            [
             0.3333333333333333,
             "#9c179e"
            ],
            [
             0.4444444444444444,
             "#bd3786"
            ],
            [
             0.5555555555555556,
             "#d8576b"
            ],
            [
             0.6666666666666666,
             "#ed7953"
            ],
            [
             0.7777777777777778,
             "#fb9f3a"
            ],
            [
             0.8888888888888888,
             "#fdca26"
            ],
            [
             1,
             "#f0f921"
            ]
           ],
           "sequentialminus": [
            [
             0,
             "#0d0887"
            ],
            [
             0.1111111111111111,
             "#46039f"
            ],
            [
             0.2222222222222222,
             "#7201a8"
            ],
            [
             0.3333333333333333,
             "#9c179e"
            ],
            [
             0.4444444444444444,
             "#bd3786"
            ],
            [
             0.5555555555555556,
             "#d8576b"
            ],
            [
             0.6666666666666666,
             "#ed7953"
            ],
            [
             0.7777777777777778,
             "#fb9f3a"
            ],
            [
             0.8888888888888888,
             "#fdca26"
            ],
            [
             1,
             "#f0f921"
            ]
           ]
          },
          "colorway": [
           "#636efa",
           "#EF553B",
           "#00cc96",
           "#ab63fa",
           "#FFA15A",
           "#19d3f3",
           "#FF6692",
           "#B6E880",
           "#FF97FF",
           "#FECB52"
          ],
          "font": {
           "color": "#2a3f5f"
          },
          "geo": {
           "bgcolor": "white",
           "lakecolor": "white",
           "landcolor": "#E5ECF6",
           "showlakes": true,
           "showland": true,
           "subunitcolor": "white"
          },
          "hoverlabel": {
           "align": "left"
          },
          "hovermode": "closest",
          "mapbox": {
           "style": "light"
          },
          "paper_bgcolor": "white",
          "plot_bgcolor": "#E5ECF6",
          "polar": {
           "angularaxis": {
            "gridcolor": "white",
            "linecolor": "white",
            "ticks": ""
           },
           "bgcolor": "#E5ECF6",
           "radialaxis": {
            "gridcolor": "white",
            "linecolor": "white",
            "ticks": ""
           }
          },
          "scene": {
           "xaxis": {
            "backgroundcolor": "#E5ECF6",
            "gridcolor": "white",
            "gridwidth": 2,
            "linecolor": "white",
            "showbackground": true,
            "ticks": "",
            "zerolinecolor": "white"
           },
           "yaxis": {
            "backgroundcolor": "#E5ECF6",
            "gridcolor": "white",
            "gridwidth": 2,
            "linecolor": "white",
            "showbackground": true,
            "ticks": "",
            "zerolinecolor": "white"
           },
           "zaxis": {
            "backgroundcolor": "#E5ECF6",
            "gridcolor": "white",
            "gridwidth": 2,
            "linecolor": "white",
            "showbackground": true,
            "ticks": "",
            "zerolinecolor": "white"
           }
          },
          "shapedefaults": {
           "line": {
            "color": "#2a3f5f"
           }
          },
          "ternary": {
           "aaxis": {
            "gridcolor": "white",
            "linecolor": "white",
            "ticks": ""
           },
           "baxis": {
            "gridcolor": "white",
            "linecolor": "white",
            "ticks": ""
           },
           "bgcolor": "#E5ECF6",
           "caxis": {
            "gridcolor": "white",
            "linecolor": "white",
            "ticks": ""
           }
          },
          "title": {
           "x": 0.05
          },
          "xaxis": {
           "automargin": true,
           "gridcolor": "white",
           "linecolor": "white",
           "ticks": "",
           "title": {
            "standoff": 15
           },
           "zerolinecolor": "white",
           "zerolinewidth": 2
          },
          "yaxis": {
           "automargin": true,
           "gridcolor": "white",
           "linecolor": "white",
           "ticks": "",
           "title": {
            "standoff": 15
           },
           "zerolinecolor": "white",
           "zerolinewidth": 2
          }
         }
        },
        "xaxis": {
         "anchor": "y",
         "domain": [
          0,
          1
         ],
         "title": {
          "text": "hour"
         }
        },
        "yaxis": {
         "anchor": "x",
         "domain": [
          0,
          1
         ],
         "title": {
          "text": "value"
         }
        }
       }
      }
     },
     "metadata": {},
     "output_type": "display_data"
    }
   ],
   "source": [
    "date_input = '2019-02-12'\n",
    "timestamp = pd.to_datetime(date_input)\n",
    "\n",
    "date_data = data[(data.month == timestamp.month) & (data.day == timestamp.day)]\n",
    "date_data.direction.replace([1, 2], ['Centre', 'Outskirts'], inplace=True)\n",
    "fig = px.line(date_data, x='hour', y='value', color='year', line_dash='direction')\n",
    "fig.show()"
   ]
  },
  {
   "cell_type": "code",
   "execution_count": 71,
   "metadata": {},
   "outputs": [
    {
     "data": {
      "text/html": [
       "<div>\n",
       "<style scoped>\n",
       "    .dataframe tbody tr th:only-of-type {\n",
       "        vertical-align: middle;\n",
       "    }\n",
       "\n",
       "    .dataframe tbody tr th {\n",
       "        vertical-align: top;\n",
       "    }\n",
       "\n",
       "    .dataframe thead th {\n",
       "        text-align: right;\n",
       "    }\n",
       "</style>\n",
       "<table border=\"1\" class=\"dataframe\">\n",
       "  <thead>\n",
       "    <tr style=\"text-align: right;\">\n",
       "      <th></th>\n",
       "      <th>date</th>\n",
       "      <th>direction</th>\n",
       "      <th>hour</th>\n",
       "      <th>value</th>\n",
       "      <th>holiday</th>\n",
       "      <th>timestamp</th>\n",
       "      <th>year</th>\n",
       "      <th>month</th>\n",
       "      <th>week</th>\n",
       "      <th>weekday</th>\n",
       "      <th>is_weekend</th>\n",
       "      <th>day</th>\n",
       "    </tr>\n",
       "  </thead>\n",
       "  <tbody>\n",
       "    <tr>\n",
       "      <th>48</th>\n",
       "      <td>2019-02-12</td>\n",
       "      <td>1</td>\n",
       "      <td>0</td>\n",
       "      <td>76</td>\n",
       "      <td>0</td>\n",
       "      <td>2019-02-12 00:00:00</td>\n",
       "      <td>2019</td>\n",
       "      <td>2</td>\n",
       "      <td>7</td>\n",
       "      <td>1</td>\n",
       "      <td>0</td>\n",
       "      <td>12</td>\n",
       "    </tr>\n",
       "    <tr>\n",
       "      <th>49</th>\n",
       "      <td>2019-02-12</td>\n",
       "      <td>1</td>\n",
       "      <td>1</td>\n",
       "      <td>56</td>\n",
       "      <td>0</td>\n",
       "      <td>2019-02-12 01:00:00</td>\n",
       "      <td>2019</td>\n",
       "      <td>2</td>\n",
       "      <td>7</td>\n",
       "      <td>1</td>\n",
       "      <td>0</td>\n",
       "      <td>12</td>\n",
       "    </tr>\n",
       "    <tr>\n",
       "      <th>50</th>\n",
       "      <td>2019-02-12</td>\n",
       "      <td>1</td>\n",
       "      <td>2</td>\n",
       "      <td>31</td>\n",
       "      <td>0</td>\n",
       "      <td>2019-02-12 02:00:00</td>\n",
       "      <td>2019</td>\n",
       "      <td>2</td>\n",
       "      <td>7</td>\n",
       "      <td>1</td>\n",
       "      <td>0</td>\n",
       "      <td>12</td>\n",
       "    </tr>\n",
       "    <tr>\n",
       "      <th>51</th>\n",
       "      <td>2019-02-12</td>\n",
       "      <td>1</td>\n",
       "      <td>3</td>\n",
       "      <td>26</td>\n",
       "      <td>0</td>\n",
       "      <td>2019-02-12 03:00:00</td>\n",
       "      <td>2019</td>\n",
       "      <td>2</td>\n",
       "      <td>7</td>\n",
       "      <td>1</td>\n",
       "      <td>0</td>\n",
       "      <td>12</td>\n",
       "    </tr>\n",
       "    <tr>\n",
       "      <th>52</th>\n",
       "      <td>2019-02-12</td>\n",
       "      <td>1</td>\n",
       "      <td>4</td>\n",
       "      <td>42</td>\n",
       "      <td>0</td>\n",
       "      <td>2019-02-12 04:00:00</td>\n",
       "      <td>2019</td>\n",
       "      <td>2</td>\n",
       "      <td>7</td>\n",
       "      <td>1</td>\n",
       "      <td>0</td>\n",
       "      <td>12</td>\n",
       "    </tr>\n",
       "    <tr>\n",
       "      <th>...</th>\n",
       "      <td>...</td>\n",
       "      <td>...</td>\n",
       "      <td>...</td>\n",
       "      <td>...</td>\n",
       "      <td>...</td>\n",
       "      <td>...</td>\n",
       "      <td>...</td>\n",
       "      <td>...</td>\n",
       "      <td>...</td>\n",
       "      <td>...</td>\n",
       "      <td>...</td>\n",
       "      <td>...</td>\n",
       "    </tr>\n",
       "    <tr>\n",
       "      <th>3547</th>\n",
       "      <td>2020-02-12</td>\n",
       "      <td>2</td>\n",
       "      <td>19</td>\n",
       "      <td>546</td>\n",
       "      <td>0</td>\n",
       "      <td>2020-02-12 19:00:00</td>\n",
       "      <td>2020</td>\n",
       "      <td>2</td>\n",
       "      <td>7</td>\n",
       "      <td>2</td>\n",
       "      <td>0</td>\n",
       "      <td>12</td>\n",
       "    </tr>\n",
       "    <tr>\n",
       "      <th>3548</th>\n",
       "      <td>2020-02-12</td>\n",
       "      <td>2</td>\n",
       "      <td>20</td>\n",
       "      <td>413</td>\n",
       "      <td>0</td>\n",
       "      <td>2020-02-12 20:00:00</td>\n",
       "      <td>2020</td>\n",
       "      <td>2</td>\n",
       "      <td>7</td>\n",
       "      <td>2</td>\n",
       "      <td>0</td>\n",
       "      <td>12</td>\n",
       "    </tr>\n",
       "    <tr>\n",
       "      <th>3549</th>\n",
       "      <td>2020-02-12</td>\n",
       "      <td>2</td>\n",
       "      <td>21</td>\n",
       "      <td>251</td>\n",
       "      <td>0</td>\n",
       "      <td>2020-02-12 21:00:00</td>\n",
       "      <td>2020</td>\n",
       "      <td>2</td>\n",
       "      <td>7</td>\n",
       "      <td>2</td>\n",
       "      <td>0</td>\n",
       "      <td>12</td>\n",
       "    </tr>\n",
       "    <tr>\n",
       "      <th>3550</th>\n",
       "      <td>2020-02-12</td>\n",
       "      <td>2</td>\n",
       "      <td>22</td>\n",
       "      <td>121</td>\n",
       "      <td>0</td>\n",
       "      <td>2020-02-12 22:00:00</td>\n",
       "      <td>2020</td>\n",
       "      <td>2</td>\n",
       "      <td>7</td>\n",
       "      <td>2</td>\n",
       "      <td>0</td>\n",
       "      <td>12</td>\n",
       "    </tr>\n",
       "    <tr>\n",
       "      <th>3551</th>\n",
       "      <td>2020-02-12</td>\n",
       "      <td>2</td>\n",
       "      <td>23</td>\n",
       "      <td>76</td>\n",
       "      <td>0</td>\n",
       "      <td>2020-02-12 23:00:00</td>\n",
       "      <td>2020</td>\n",
       "      <td>2</td>\n",
       "      <td>7</td>\n",
       "      <td>2</td>\n",
       "      <td>0</td>\n",
       "      <td>12</td>\n",
       "    </tr>\n",
       "  </tbody>\n",
       "</table>\n",
       "<p>96 rows × 12 columns</p>\n",
       "</div>"
      ],
      "text/plain": [
       "           date  direction  hour  value  holiday           timestamp  year  \\\n",
       "48   2019-02-12          1     0     76        0 2019-02-12 00:00:00  2019   \n",
       "49   2019-02-12          1     1     56        0 2019-02-12 01:00:00  2019   \n",
       "50   2019-02-12          1     2     31        0 2019-02-12 02:00:00  2019   \n",
       "51   2019-02-12          1     3     26        0 2019-02-12 03:00:00  2019   \n",
       "52   2019-02-12          1     4     42        0 2019-02-12 04:00:00  2019   \n",
       "...         ...        ...   ...    ...      ...                 ...   ...   \n",
       "3547 2020-02-12          2    19    546        0 2020-02-12 19:00:00  2020   \n",
       "3548 2020-02-12          2    20    413        0 2020-02-12 20:00:00  2020   \n",
       "3549 2020-02-12          2    21    251        0 2020-02-12 21:00:00  2020   \n",
       "3550 2020-02-12          2    22    121        0 2020-02-12 22:00:00  2020   \n",
       "3551 2020-02-12          2    23     76        0 2020-02-12 23:00:00  2020   \n",
       "\n",
       "      month  week  weekday  is_weekend  day  \n",
       "48        2     7        1           0   12  \n",
       "49        2     7        1           0   12  \n",
       "50        2     7        1           0   12  \n",
       "51        2     7        1           0   12  \n",
       "52        2     7        1           0   12  \n",
       "...     ...   ...      ...         ...  ...  \n",
       "3547      2     7        2           0   12  \n",
       "3548      2     7        2           0   12  \n",
       "3549      2     7        2           0   12  \n",
       "3550      2     7        2           0   12  \n",
       "3551      2     7        2           0   12  \n",
       "\n",
       "[96 rows x 12 columns]"
      ]
     },
     "execution_count": 71,
     "metadata": {},
     "output_type": "execute_result"
    }
   ],
   "source": [
    "data[(data.month == timestamp.month) & (data.day == timestamp.day)]"
   ]
  }
 ],
 "metadata": {
  "interpreter": {
   "hash": "15f34abf9c331a7f2459637e7f89ff246c5e65722e54538a6a16eba129711876"
  },
  "kernelspec": {
   "display_name": "Python 3.8.5 64-bit ('IDS': conda)",
   "name": "python3"
  },
  "language_info": {
   "codemirror_mode": {
    "name": "ipython",
    "version": 3
   },
   "file_extension": ".py",
   "mimetype": "text/x-python",
   "name": "python",
   "nbconvert_exporter": "python",
   "pygments_lexer": "ipython3",
   "version": "3.8.5"
  },
  "orig_nbformat": 4
 },
 "nbformat": 4,
 "nbformat_minor": 2
}
