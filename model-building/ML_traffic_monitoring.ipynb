{
 "cells": [
  {
   "cell_type": "markdown",
   "source": [
    "# HTML: feature engineering and model training\r\n",
    "In this notebook, we focus on getting the data and properly shaping it to extract meaningful features for the model.\r\n",
    "Then, we engineer some features that we hope will make the model capture the patterns better.\r\n",
    "Finally, we fine tune the hyperparameters and perform model selection to find the best performing model."
   ],
   "metadata": {}
  },
  {
   "cell_type": "markdown",
   "source": [
    "## Setup the environment"
   ],
   "metadata": {}
  },
  {
   "cell_type": "code",
   "execution_count": 1,
   "source": [
    "# Import the needed libraries\r\n",
    "import pandas as pd\r\n",
    "from pandas.io.json import json_normalize\r\n",
    "import numpy as np\r\n",
    "import matplotlib.pyplot as plt\r\n",
    "import requests\r\n",
    "import json\r\n",
    "import requests\r\n",
    "import re\r\n",
    "from bs4 import BeautifulSoup\r\n",
    "from workalendar.europe import Finland\r\n",
    "import seaborn as sns\r\n",
    "\r\n",
    "# Import the helper file methods\r\n",
    "from helper_file import load_data, get_file_paths"
   ],
   "outputs": [
    {
     "output_type": "stream",
     "name": "stderr",
     "text": [
      "\n",
      "Bad key \"text.kerning_factor\" on line 4 in\n",
      "C:\\Users\\ansni\\anaconda3\\envs\\IDS\\lib\\site-packages\\matplotlib\\mpl-data\\stylelib\\_classic_test_patch.mplstyle.\n",
      "You probably need to get an updated matplotlibrc file from\n",
      "https://github.com/matplotlib/matplotlib/blob/v3.1.2/matplotlibrc.template\n",
      "or from the matplotlib source distribution\n"
     ]
    }
   ],
   "metadata": {}
  },
  {
   "cell_type": "markdown",
   "source": [
    "## Get the data"
   ],
   "metadata": {}
  },
  {
   "cell_type": "code",
   "execution_count": 2,
   "source": [
    "url = 'https://aineistot.vayla.fi/lam/reports/LAM/'\r\n",
    "result = get_file_paths(url)"
   ],
   "outputs": [],
   "metadata": {}
  },
  {
   "cell_type": "code",
   "execution_count": 3,
   "source": [
    "dfs = []\r\n",
    "for url in result:\r\n",
    "    d = load_data(url)\r\n",
    "    dfs.append(d)\r\n",
    "data_set = pd.concat(dfs, ignore_index=True)"
   ],
   "outputs": [],
   "metadata": {}
  },
  {
   "cell_type": "code",
   "execution_count": 4,
   "source": [
    "data_set.head()"
   ],
   "outputs": [
    {
     "output_type": "execute_result",
     "data": {
      "text/html": [
       "<div>\n",
       "<style scoped>\n",
       "    .dataframe tbody tr th:only-of-type {\n",
       "        vertical-align: middle;\n",
       "    }\n",
       "\n",
       "    .dataframe tbody tr th {\n",
       "        vertical-align: top;\n",
       "    }\n",
       "\n",
       "    .dataframe thead th {\n",
       "        text-align: right;\n",
       "    }\n",
       "</style>\n",
       "<table border=\"1\" class=\"dataframe\">\n",
       "  <thead>\n",
       "    <tr style=\"text-align: right;\">\n",
       "      <th></th>\n",
       "      <th>TMS</th>\n",
       "      <th>Location</th>\n",
       "      <th>Date</th>\n",
       "      <th>Direction</th>\n",
       "      <th>Type</th>\n",
       "      <th>00-01</th>\n",
       "      <th>01-02</th>\n",
       "      <th>02-03</th>\n",
       "      <th>03-04</th>\n",
       "      <th>04-05</th>\n",
       "      <th>...</th>\n",
       "      <th>14-15</th>\n",
       "      <th>15-16</th>\n",
       "      <th>16-17</th>\n",
       "      <th>17-18</th>\n",
       "      <th>18-19</th>\n",
       "      <th>19-20</th>\n",
       "      <th>20-21</th>\n",
       "      <th>21-22</th>\n",
       "      <th>22-23</th>\n",
       "      <th>23-00</th>\n",
       "    </tr>\n",
       "  </thead>\n",
       "  <tbody>\n",
       "    <tr>\n",
       "      <th>0</th>\n",
       "      <td>117</td>\n",
       "      <td>vt1_Munkkiniemi</td>\n",
       "      <td>2019-01-12</td>\n",
       "      <td>1</td>\n",
       "      <td>11 HA-PA</td>\n",
       "      <td>216</td>\n",
       "      <td>186</td>\n",
       "      <td>158</td>\n",
       "      <td>147</td>\n",
       "      <td>117</td>\n",
       "      <td>...</td>\n",
       "      <td>976</td>\n",
       "      <td>974</td>\n",
       "      <td>978</td>\n",
       "      <td>899</td>\n",
       "      <td>829</td>\n",
       "      <td>675</td>\n",
       "      <td>525</td>\n",
       "      <td>362</td>\n",
       "      <td>189</td>\n",
       "      <td>108</td>\n",
       "    </tr>\n",
       "    <tr>\n",
       "      <th>1</th>\n",
       "      <td>117</td>\n",
       "      <td>vt1_Munkkiniemi</td>\n",
       "      <td>2019-01-12</td>\n",
       "      <td>1</td>\n",
       "      <td>12 KAIP</td>\n",
       "      <td>0</td>\n",
       "      <td>2</td>\n",
       "      <td>0</td>\n",
       "      <td>1</td>\n",
       "      <td>0</td>\n",
       "      <td>...</td>\n",
       "      <td>5</td>\n",
       "      <td>2</td>\n",
       "      <td>2</td>\n",
       "      <td>4</td>\n",
       "      <td>2</td>\n",
       "      <td>4</td>\n",
       "      <td>1</td>\n",
       "      <td>0</td>\n",
       "      <td>0</td>\n",
       "      <td>0</td>\n",
       "    </tr>\n",
       "    <tr>\n",
       "      <th>2</th>\n",
       "      <td>117</td>\n",
       "      <td>vt1_Munkkiniemi</td>\n",
       "      <td>2019-01-12</td>\n",
       "      <td>1</td>\n",
       "      <td>13 Linja-autot</td>\n",
       "      <td>1</td>\n",
       "      <td>2</td>\n",
       "      <td>1</td>\n",
       "      <td>0</td>\n",
       "      <td>2</td>\n",
       "      <td>...</td>\n",
       "      <td>15</td>\n",
       "      <td>8</td>\n",
       "      <td>12</td>\n",
       "      <td>8</td>\n",
       "      <td>11</td>\n",
       "      <td>9</td>\n",
       "      <td>8</td>\n",
       "      <td>5</td>\n",
       "      <td>6</td>\n",
       "      <td>4</td>\n",
       "    </tr>\n",
       "    <tr>\n",
       "      <th>3</th>\n",
       "      <td>117</td>\n",
       "      <td>vt1_Munkkiniemi</td>\n",
       "      <td>2019-01-12</td>\n",
       "      <td>1</td>\n",
       "      <td>14 KAPP</td>\n",
       "      <td>1</td>\n",
       "      <td>0</td>\n",
       "      <td>0</td>\n",
       "      <td>0</td>\n",
       "      <td>0</td>\n",
       "      <td>...</td>\n",
       "      <td>0</td>\n",
       "      <td>0</td>\n",
       "      <td>0</td>\n",
       "      <td>0</td>\n",
       "      <td>1</td>\n",
       "      <td>1</td>\n",
       "      <td>1</td>\n",
       "      <td>0</td>\n",
       "      <td>1</td>\n",
       "      <td>1</td>\n",
       "    </tr>\n",
       "    <tr>\n",
       "      <th>4</th>\n",
       "      <td>117</td>\n",
       "      <td>vt1_Munkkiniemi</td>\n",
       "      <td>2019-01-12</td>\n",
       "      <td>1</td>\n",
       "      <td>15 KATP</td>\n",
       "      <td>0</td>\n",
       "      <td>0</td>\n",
       "      <td>0</td>\n",
       "      <td>0</td>\n",
       "      <td>0</td>\n",
       "      <td>...</td>\n",
       "      <td>0</td>\n",
       "      <td>1</td>\n",
       "      <td>0</td>\n",
       "      <td>0</td>\n",
       "      <td>0</td>\n",
       "      <td>0</td>\n",
       "      <td>1</td>\n",
       "      <td>1</td>\n",
       "      <td>0</td>\n",
       "      <td>0</td>\n",
       "    </tr>\n",
       "  </tbody>\n",
       "</table>\n",
       "<p>5 rows × 29 columns</p>\n",
       "</div>"
      ],
      "text/plain": [
       "   TMS         Location       Date  Direction            Type  00-01  01-02  \\\n",
       "0  117  vt1_Munkkiniemi 2019-01-12          1        11 HA-PA    216    186   \n",
       "1  117  vt1_Munkkiniemi 2019-01-12          1         12 KAIP      0      2   \n",
       "2  117  vt1_Munkkiniemi 2019-01-12          1  13 Linja-autot      1      2   \n",
       "3  117  vt1_Munkkiniemi 2019-01-12          1         14 KAPP      1      0   \n",
       "4  117  vt1_Munkkiniemi 2019-01-12          1         15 KATP      0      0   \n",
       "\n",
       "   02-03  03-04  04-05  ...  14-15  15-16  16-17  17-18  18-19  19-20  20-21  \\\n",
       "0    158    147    117  ...    976    974    978    899    829    675    525   \n",
       "1      0      1      0  ...      5      2      2      4      2      4      1   \n",
       "2      1      0      2  ...     15      8     12      8     11      9      8   \n",
       "3      0      0      0  ...      0      0      0      0      1      1      1   \n",
       "4      0      0      0  ...      0      1      0      0      0      0      1   \n",
       "\n",
       "   21-22  22-23  23-00  \n",
       "0    362    189    108  \n",
       "1      0      0      0  \n",
       "2      5      6      4  \n",
       "3      0      1      1  \n",
       "4      1      0      0  \n",
       "\n",
       "[5 rows x 29 columns]"
      ]
     },
     "metadata": {},
     "execution_count": 4
    }
   ],
   "metadata": {}
  },
  {
   "cell_type": "markdown",
   "source": [
    "## Preprocessing and basic feature extraction"
   ],
   "metadata": {}
  },
  {
   "cell_type": "code",
   "execution_count": 5,
   "source": [
    "cal = Finland()\r\n",
    "data_set['holiday'] = data_set.Date.apply(lambda x: not cal.is_working_day(x))"
   ],
   "outputs": [],
   "metadata": {}
  },
  {
   "cell_type": "code",
   "execution_count": 6,
   "source": [
    "id_vars=list(data_set.columns[:5])\r\n",
    "id_vars.append(data_set.columns[-1])\r\n",
    "value_vars=list(data_set.columns[5:][:-1])\r\n",
    "data_set = pd.melt(data_set, id_vars=id_vars, value_vars=value_vars)"
   ],
   "outputs": [],
   "metadata": {}
  },
  {
   "cell_type": "code",
   "execution_count": 7,
   "source": [
    "data_set.drop_duplicates(['Date', 'variable', 'Direction', 'Type'], inplace = True)\r\n",
    "data_set.head()"
   ],
   "outputs": [
    {
     "output_type": "execute_result",
     "data": {
      "text/html": [
       "<div>\n",
       "<style scoped>\n",
       "    .dataframe tbody tr th:only-of-type {\n",
       "        vertical-align: middle;\n",
       "    }\n",
       "\n",
       "    .dataframe tbody tr th {\n",
       "        vertical-align: top;\n",
       "    }\n",
       "\n",
       "    .dataframe thead th {\n",
       "        text-align: right;\n",
       "    }\n",
       "</style>\n",
       "<table border=\"1\" class=\"dataframe\">\n",
       "  <thead>\n",
       "    <tr style=\"text-align: right;\">\n",
       "      <th></th>\n",
       "      <th>TMS</th>\n",
       "      <th>Location</th>\n",
       "      <th>Date</th>\n",
       "      <th>Direction</th>\n",
       "      <th>Type</th>\n",
       "      <th>holiday</th>\n",
       "      <th>variable</th>\n",
       "      <th>value</th>\n",
       "    </tr>\n",
       "  </thead>\n",
       "  <tbody>\n",
       "    <tr>\n",
       "      <th>0</th>\n",
       "      <td>117</td>\n",
       "      <td>vt1_Munkkiniemi</td>\n",
       "      <td>2019-01-12</td>\n",
       "      <td>1</td>\n",
       "      <td>11 HA-PA</td>\n",
       "      <td>True</td>\n",
       "      <td>00-01</td>\n",
       "      <td>216</td>\n",
       "    </tr>\n",
       "    <tr>\n",
       "      <th>1</th>\n",
       "      <td>117</td>\n",
       "      <td>vt1_Munkkiniemi</td>\n",
       "      <td>2019-01-12</td>\n",
       "      <td>1</td>\n",
       "      <td>12 KAIP</td>\n",
       "      <td>True</td>\n",
       "      <td>00-01</td>\n",
       "      <td>0</td>\n",
       "    </tr>\n",
       "    <tr>\n",
       "      <th>2</th>\n",
       "      <td>117</td>\n",
       "      <td>vt1_Munkkiniemi</td>\n",
       "      <td>2019-01-12</td>\n",
       "      <td>1</td>\n",
       "      <td>13 Linja-autot</td>\n",
       "      <td>True</td>\n",
       "      <td>00-01</td>\n",
       "      <td>1</td>\n",
       "    </tr>\n",
       "    <tr>\n",
       "      <th>3</th>\n",
       "      <td>117</td>\n",
       "      <td>vt1_Munkkiniemi</td>\n",
       "      <td>2019-01-12</td>\n",
       "      <td>1</td>\n",
       "      <td>14 KAPP</td>\n",
       "      <td>True</td>\n",
       "      <td>00-01</td>\n",
       "      <td>1</td>\n",
       "    </tr>\n",
       "    <tr>\n",
       "      <th>4</th>\n",
       "      <td>117</td>\n",
       "      <td>vt1_Munkkiniemi</td>\n",
       "      <td>2019-01-12</td>\n",
       "      <td>1</td>\n",
       "      <td>15 KATP</td>\n",
       "      <td>True</td>\n",
       "      <td>00-01</td>\n",
       "      <td>0</td>\n",
       "    </tr>\n",
       "  </tbody>\n",
       "</table>\n",
       "</div>"
      ],
      "text/plain": [
       "   TMS         Location       Date  Direction            Type  holiday  \\\n",
       "0  117  vt1_Munkkiniemi 2019-01-12          1        11 HA-PA     True   \n",
       "1  117  vt1_Munkkiniemi 2019-01-12          1         12 KAIP     True   \n",
       "2  117  vt1_Munkkiniemi 2019-01-12          1  13 Linja-autot     True   \n",
       "3  117  vt1_Munkkiniemi 2019-01-12          1         14 KAPP     True   \n",
       "4  117  vt1_Munkkiniemi 2019-01-12          1         15 KATP     True   \n",
       "\n",
       "  variable  value  \n",
       "0    00-01    216  \n",
       "1    00-01      0  \n",
       "2    00-01      1  \n",
       "3    00-01      1  \n",
       "4    00-01      0  "
      ]
     },
     "metadata": {},
     "execution_count": 7
    }
   ],
   "metadata": {}
  },
  {
   "cell_type": "code",
   "execution_count": 8,
   "source": [
    "car_total = data_set.groupby(['Date', 'Direction', 'variable'])\r\n",
    "data = car_total[['value', 'holiday']].sum().reset_index()"
   ],
   "outputs": [],
   "metadata": {}
  },
  {
   "cell_type": "code",
   "execution_count": 9,
   "source": [
    "conve_dict = dict(zip(data.variable.unique(), list(range(24))))\r\n",
    "data.head()"
   ],
   "outputs": [
    {
     "output_type": "execute_result",
     "data": {
      "text/html": [
       "<div>\n",
       "<style scoped>\n",
       "    .dataframe tbody tr th:only-of-type {\n",
       "        vertical-align: middle;\n",
       "    }\n",
       "\n",
       "    .dataframe tbody tr th {\n",
       "        vertical-align: top;\n",
       "    }\n",
       "\n",
       "    .dataframe thead th {\n",
       "        text-align: right;\n",
       "    }\n",
       "</style>\n",
       "<table border=\"1\" class=\"dataframe\">\n",
       "  <thead>\n",
       "    <tr style=\"text-align: right;\">\n",
       "      <th></th>\n",
       "      <th>Date</th>\n",
       "      <th>Direction</th>\n",
       "      <th>variable</th>\n",
       "      <th>value</th>\n",
       "      <th>holiday</th>\n",
       "    </tr>\n",
       "  </thead>\n",
       "  <tbody>\n",
       "    <tr>\n",
       "      <th>0</th>\n",
       "      <td>2019-01-12</td>\n",
       "      <td>1</td>\n",
       "      <td>00-01</td>\n",
       "      <td>218</td>\n",
       "      <td>7</td>\n",
       "    </tr>\n",
       "    <tr>\n",
       "      <th>1</th>\n",
       "      <td>2019-01-12</td>\n",
       "      <td>1</td>\n",
       "      <td>01-02</td>\n",
       "      <td>190</td>\n",
       "      <td>7</td>\n",
       "    </tr>\n",
       "    <tr>\n",
       "      <th>2</th>\n",
       "      <td>2019-01-12</td>\n",
       "      <td>1</td>\n",
       "      <td>02-03</td>\n",
       "      <td>159</td>\n",
       "      <td>7</td>\n",
       "    </tr>\n",
       "    <tr>\n",
       "      <th>3</th>\n",
       "      <td>2019-01-12</td>\n",
       "      <td>1</td>\n",
       "      <td>03-04</td>\n",
       "      <td>148</td>\n",
       "      <td>7</td>\n",
       "    </tr>\n",
       "    <tr>\n",
       "      <th>4</th>\n",
       "      <td>2019-01-12</td>\n",
       "      <td>1</td>\n",
       "      <td>04-05</td>\n",
       "      <td>119</td>\n",
       "      <td>7</td>\n",
       "    </tr>\n",
       "  </tbody>\n",
       "</table>\n",
       "</div>"
      ],
      "text/plain": [
       "        Date  Direction variable  value  holiday\n",
       "0 2019-01-12          1    00-01    218        7\n",
       "1 2019-01-12          1    01-02    190        7\n",
       "2 2019-01-12          1    02-03    159        7\n",
       "3 2019-01-12          1    03-04    148        7\n",
       "4 2019-01-12          1    04-05    119        7"
      ]
     },
     "metadata": {},
     "execution_count": 9
    }
   ],
   "metadata": {}
  },
  {
   "cell_type": "code",
   "execution_count": 10,
   "source": [
    "data.variable = data.variable.transform(lambda x: conve_dict[x])\r\n",
    "data.holiday = data.holiday.astype(bool)*1"
   ],
   "outputs": [],
   "metadata": {}
  },
  {
   "cell_type": "code",
   "execution_count": 11,
   "source": [
    "data['Date'] = pd.to_datetime(data['Date'])\r\n",
    "#data['Date']= data['Date'].map(dt.datetime.toordinal)\r\n",
    "data['timestamp'] = data['Date'] + data.variable.apply(lambda x: np.timedelta64(x, 'h'))"
   ],
   "outputs": [],
   "metadata": {}
  },
  {
   "cell_type": "code",
   "execution_count": 15,
   "source": [
    "data['year'] = pd.DatetimeIndex(data['Date']).year\r\n",
    "data['month'] = pd.DatetimeIndex(data['Date']).month\r\n",
    "data['week'] = pd.DatetimeIndex(data['Date']).week\r\n",
    "data['weekday'] = pd.DatetimeIndex(data['Date']).weekday\r\n",
    "data['is_weekend'] = data.weekday.isin([5,6])*1\r\n",
    "data['day'] = pd.DatetimeIndex(data['Date']).day\r\n",
    "\r\n",
    "# take a snapshot of the dataframe for further inspection\r\n",
    "data_copy = data.copy()"
   ],
   "outputs": [
    {
     "output_type": "stream",
     "name": "stderr",
     "text": [
      "C:\\Users\\ansni\\AppData\\Local\\Temp/ipykernel_10456/1782179912.py:3: FutureWarning: weekofyear and week have been deprecated, please use DatetimeIndex.isocalendar().week instead, which returns a Series.  To exactly reproduce the behavior of week and weekofyear and return an Index, you may call pd.Int64Index(idx.isocalendar().week)\n",
      "  data['week'] = pd.DatetimeIndex(data['Date']).week\n"
     ]
    }
   ],
   "metadata": {}
  },
  {
   "cell_type": "code",
   "execution_count": 16,
   "source": [
    "data.rename(columns={'variable':'hour', 'Date':'date', 'Direction':'direction'}, inplace=True)"
   ],
   "outputs": [],
   "metadata": {}
  },
  {
   "cell_type": "code",
   "execution_count": 17,
   "source": [
    "data.head()"
   ],
   "outputs": [
    {
     "output_type": "execute_result",
     "data": {
      "text/html": [
       "<div>\n",
       "<style scoped>\n",
       "    .dataframe tbody tr th:only-of-type {\n",
       "        vertical-align: middle;\n",
       "    }\n",
       "\n",
       "    .dataframe tbody tr th {\n",
       "        vertical-align: top;\n",
       "    }\n",
       "\n",
       "    .dataframe thead th {\n",
       "        text-align: right;\n",
       "    }\n",
       "</style>\n",
       "<table border=\"1\" class=\"dataframe\">\n",
       "  <thead>\n",
       "    <tr style=\"text-align: right;\">\n",
       "      <th></th>\n",
       "      <th>date</th>\n",
       "      <th>direction</th>\n",
       "      <th>hour</th>\n",
       "      <th>value</th>\n",
       "      <th>holiday</th>\n",
       "      <th>timestamp</th>\n",
       "      <th>year</th>\n",
       "      <th>month</th>\n",
       "      <th>week</th>\n",
       "      <th>weekday</th>\n",
       "      <th>day</th>\n",
       "      <th>is_weekend</th>\n",
       "    </tr>\n",
       "  </thead>\n",
       "  <tbody>\n",
       "    <tr>\n",
       "      <th>0</th>\n",
       "      <td>2019-01-12</td>\n",
       "      <td>1</td>\n",
       "      <td>0</td>\n",
       "      <td>218</td>\n",
       "      <td>1</td>\n",
       "      <td>2019-01-12 00:00:00</td>\n",
       "      <td>2019</td>\n",
       "      <td>1</td>\n",
       "      <td>2</td>\n",
       "      <td>5</td>\n",
       "      <td>12</td>\n",
       "      <td>1</td>\n",
       "    </tr>\n",
       "    <tr>\n",
       "      <th>1</th>\n",
       "      <td>2019-01-12</td>\n",
       "      <td>1</td>\n",
       "      <td>1</td>\n",
       "      <td>190</td>\n",
       "      <td>1</td>\n",
       "      <td>2019-01-12 01:00:00</td>\n",
       "      <td>2019</td>\n",
       "      <td>1</td>\n",
       "      <td>2</td>\n",
       "      <td>5</td>\n",
       "      <td>12</td>\n",
       "      <td>1</td>\n",
       "    </tr>\n",
       "    <tr>\n",
       "      <th>2</th>\n",
       "      <td>2019-01-12</td>\n",
       "      <td>1</td>\n",
       "      <td>2</td>\n",
       "      <td>159</td>\n",
       "      <td>1</td>\n",
       "      <td>2019-01-12 02:00:00</td>\n",
       "      <td>2019</td>\n",
       "      <td>1</td>\n",
       "      <td>2</td>\n",
       "      <td>5</td>\n",
       "      <td>12</td>\n",
       "      <td>1</td>\n",
       "    </tr>\n",
       "    <tr>\n",
       "      <th>3</th>\n",
       "      <td>2019-01-12</td>\n",
       "      <td>1</td>\n",
       "      <td>3</td>\n",
       "      <td>148</td>\n",
       "      <td>1</td>\n",
       "      <td>2019-01-12 03:00:00</td>\n",
       "      <td>2019</td>\n",
       "      <td>1</td>\n",
       "      <td>2</td>\n",
       "      <td>5</td>\n",
       "      <td>12</td>\n",
       "      <td>1</td>\n",
       "    </tr>\n",
       "    <tr>\n",
       "      <th>4</th>\n",
       "      <td>2019-01-12</td>\n",
       "      <td>1</td>\n",
       "      <td>4</td>\n",
       "      <td>119</td>\n",
       "      <td>1</td>\n",
       "      <td>2019-01-12 04:00:00</td>\n",
       "      <td>2019</td>\n",
       "      <td>1</td>\n",
       "      <td>2</td>\n",
       "      <td>5</td>\n",
       "      <td>12</td>\n",
       "      <td>1</td>\n",
       "    </tr>\n",
       "  </tbody>\n",
       "</table>\n",
       "</div>"
      ],
      "text/plain": [
       "        date  direction  hour  value  holiday           timestamp  year  \\\n",
       "0 2019-01-12          1     0    218        1 2019-01-12 00:00:00  2019   \n",
       "1 2019-01-12          1     1    190        1 2019-01-12 01:00:00  2019   \n",
       "2 2019-01-12          1     2    159        1 2019-01-12 02:00:00  2019   \n",
       "3 2019-01-12          1     3    148        1 2019-01-12 03:00:00  2019   \n",
       "4 2019-01-12          1     4    119        1 2019-01-12 04:00:00  2019   \n",
       "\n",
       "   month  week  weekday  day  is_weekend  \n",
       "0      1     2        5   12           1  \n",
       "1      1     2        5   12           1  \n",
       "2      1     2        5   12           1  \n",
       "3      1     2        5   12           1  \n",
       "4      1     2        5   12           1  "
      ]
     },
     "metadata": {},
     "execution_count": 17
    }
   ],
   "metadata": {}
  },
  {
   "cell_type": "markdown",
   "source": [
    "## Exploratory Data Analysis\r\n",
    "Let's plot the values for a certain day, a certain week, a certain month and a certain year to see if there are patterns worth investigating. We'll only look at one direction since including both directions will clutter the plot."
   ],
   "metadata": {}
  },
  {
   "cell_type": "markdown",
   "source": [
    "### Unique values\r\n",
    "Let's look at the unique values for our input features of interest."
   ],
   "metadata": {}
  },
  {
   "cell_type": "code",
   "execution_count": 18,
   "source": [
    "print(\"Hours:\", np.sort(data.hour.unique()))\r\n",
    "print(\"Days:\", np.sort(data.day.unique()))\r\n",
    "print(\"WeekDays:\", np.sort(data.day.unique()))\r\n",
    "print(\"is_weekend:\", np.sort(data.is_weekend.unique()))\r\n",
    "print(\"Weeks:\", np.sort(data.week.unique()))\r\n",
    "print(\"Months:\", np.sort(data.month.unique()))\r\n",
    "print(\"Years:\", np.sort(data.year.unique()))"
   ],
   "outputs": [
    {
     "output_type": "stream",
     "name": "stdout",
     "text": [
      "Hours: [ 0  1  2  3  4  5  6  7  8  9 10 11 12 13 14 15 16 17 18 19 20 21 22 23]\n",
      "Days: [ 1  2  3  4  5  6  7  8  9 10 11 12 13 14 15 16 17 18 19 20 21 22 23 24\n",
      " 25 26 27 28 29 30 31]\n",
      "WeekDays: [ 1  2  3  4  5  6  7  8  9 10 11 12 13 14 15 16 17 18 19 20 21 22 23 24\n",
      " 25 26 27 28 29 30 31]\n",
      "is_weekend: [0 1]\n",
      "Weeks: [ 1  2  3  4  5  6  7  8  9 10 11 12 13 14 15 16 17 18 19 20 21 22 23 24\n",
      " 25 26 27 28 29 30 31 32 33 34 35 36 37 38 39 40 41 42 43 44 45 46 47 48\n",
      " 49 50 51 52 53]\n",
      "Months: [ 1  2  3  4  5  6  7  8  9 10 11 12]\n",
      "Years: [2019 2020 2021]\n"
     ]
    }
   ],
   "metadata": {}
  },
  {
   "cell_type": "markdown",
   "source": [
    "Looks fine, no weird values found."
   ],
   "metadata": {}
  },
  {
   "cell_type": "markdown",
   "source": [
    "Let's get to plotting the resulting features for one of the directions to get a clearer picture."
   ],
   "metadata": {}
  },
  {
   "cell_type": "code",
   "execution_count": 23,
   "source": [
    "one_direction = data[data['direction']==1]\r\n",
    "# may = one_direction[one_direction.month==5]\r\n",
    "# one_direction[one_direction.day==5]"
   ],
   "outputs": [],
   "metadata": {}
  },
  {
   "cell_type": "code",
   "execution_count": 47,
   "source": [
    "fig, axes = plt.subplots(2, 2, figsize=(10, 10), sharey=False)\r\n",
    "fig.suptitle('Traffic summary')\r\n",
    "\r\n",
    "sns.lineplot(ax=axes[0,0], x='month',y='value',hue='year',data=one_direction)\r\n",
    "axes[0,0].set_title('Month')\r\n",
    "\r\n",
    "sns.lineplot(ax=axes[0,1], x='week',y='value',hue='year',data=one_direction)\r\n",
    "axes[0,1].set_title('Week')\r\n",
    "\r\n",
    "sns.lineplot(ax=axes[1,0], x='weekday',y='value',hue='year',data=one_direction)\r\n",
    "axes[1,0].set_title('Week day')\r\n",
    "\r\n",
    "sns.lineplot(ax=axes[1,1], x='hour',y='value',hue='year',data=one_direction)\r\n",
    "axes[1,1].set_title('Hour')\r\n"
   ],
   "outputs": [
    {
     "output_type": "execute_result",
     "data": {
      "text/plain": [
       "Text(0.5, 1.0, 'Hour')"
      ]
     },
     "metadata": {},
     "execution_count": 47
    },
    {
     "output_type": "display_data",
     "data": {
      "image/png": "[encoded data removed]",
      "text/plain": [
       "<Figure size 720x720 with 4 Axes>"
      ]
     },
     "metadata": {
      "needs_background": "light"
     }
    }
   ],
   "metadata": {}
  },
  {
   "cell_type": "markdown",
   "source": [
    "As we can see different granularity in the scale gives us quite different results. Features such as the year, the month, the week of the year, the week day and the hour can have a big impact on the number of cars on the road."
   ],
   "metadata": {}
  },
  {
   "cell_type": "markdown",
   "source": [
    "## Modelling\r\n",
    "Now that we have a good picture of the data, let's start to see if we can find a good fit.\r\n",
    "\r\n",
    "It's important to note that since we are dealing with time series data, we can not blindly form train and test splits randomly.\r\n",
    "We have to respect the structure of the data and only test on future samples."
   ],
   "metadata": {}
  },
  {
   "cell_type": "code",
   "execution_count": 60,
   "source": [
    "# Let's divide the data into input features (X) and target features (y)\r\n",
    "input_features = ['direction', 'hour', 'holiday', 'year', 'month', 'week', 'weekday', 'day', 'is_weekend']\r\n",
    "target_feature = ['value']\r\n",
    "X = np.array(data[input_features])\r\n",
    "y = np.array(data[target_feature])\r\n",
    "print(\"Shape of X:\", X.shape)\r\n",
    "print(\"Shape of y:\", y.shape)"
   ],
   "outputs": [
    {
     "output_type": "stream",
     "name": "stdout",
     "text": [
      "Shape of X: (32160, 9)\n",
      "Shape of y: (32160, 1)\n"
     ]
    }
   ],
   "metadata": {}
  },
  {
   "cell_type": "code",
   "execution_count": 63,
   "source": [
    "from sklearn.model_selection import TimeSeriesSplit, cross_val_score\r\n",
    "\r\n",
    "tscv = TimeSeriesSplit()\r\n",
    "for train_index, test_index in tscv.split(X):\r\n",
    "    print(\"TRAIN:\", train_index, \"TEST:\", test_index)\r\n",
    "    X_train, X_test = X[train_index], X[test_index]\r\n",
    "    y_train, y_test = y[train_index], y[test_index]"
   ],
   "outputs": [
    {
     "output_type": "stream",
     "name": "stdout",
     "text": [
      "TRAIN: [   0    1    2 ... 5357 5358 5359] TEST: [ 5360  5361  5362 ... 10717 10718 10719]\n",
      "TRAIN: [    0     1     2 ... 10717 10718 10719] TEST: [10720 10721 10722 ... 16077 16078 16079]\n",
      "TRAIN: [    0     1     2 ... 16077 16078 16079] TEST: [16080 16081 16082 ... 21437 21438 21439]\n",
      "TRAIN: [    0     1     2 ... 21437 21438 21439] TEST: [21440 21441 21442 ... 26797 26798 26799]\n",
      "TRAIN: [    0     1     2 ... 26797 26798 26799] TEST: [26800 26801 26802 ... 32157 32158 32159]\n"
     ]
    }
   ],
   "metadata": {}
  },
  {
   "cell_type": "markdown",
   "source": [
    "As we can see `TimeSeriesSplit` respects the direction of time and does not leak data into the test set."
   ],
   "metadata": {}
  },
  {
   "cell_type": "code",
   "execution_count": 62,
   "source": [
    "from sklearn.linear_model import LinearRegression\r\n",
    "from sklearn.metrics import mean_absolute_error, mean_absolute_percentage_error\r\n",
    "\r\n",
    "mae_train = []\r\n",
    "mae_percentage = []\r\n",
    "for train_index, test_index in tscv.split(X):\r\n",
    "    # Get the train and test data\r\n",
    "    X_train, X_test = X[train_index], X[test_index]\r\n",
    "    y_train, y_test = y[train_index], y[test_index]\r\n",
    "\r\n",
    "    # Train the linear regression model\r\n",
    "    lin_reg = LinearRegression()\r\n",
    "    lin_reg.fit(X_train, y_train)\r\n",
    "\r\n",
    "    # See model performance\r\n",
    "    predictions_train = lin_reg.predict(X_train)\r\n",
    "    predictions_test = lin_reg.predict(X_test)\r\n",
    "    print(\"MAE (train) = \", mean_absolute_error(y_train, predictions_train))\r\n",
    "    print(\"MAE (test) = \", mean_absolute_error(y_test, predictions_test))"
   ],
   "outputs": [
    {
     "output_type": "stream",
     "name": "stdout",
     "text": [
      "MAE (train) =  375.25645156823384\n",
      "MAE (test) =  319.808383983027\n",
      "MAE (train) =  343.9743935524636\n",
      "MAE (test) =  347.88643987819285\n",
      "MAE (train) =  345.1829453737772\n",
      "MAE (test) =  322.23723155798444\n",
      "MAE (train) =  339.5280087692909\n",
      "MAE (test) =  310.10266619752747\n",
      "MAE (train) =  334.11886491135147\n",
      "MAE (test) =  320.56505031681417\n"
     ]
    }
   ],
   "metadata": {}
  },
  {
   "cell_type": "markdown",
   "source": [
    "We need to use the negative mean absolute error because for cross validation scores in sklearn higher is always better."
   ],
   "metadata": {}
  },
  {
   "cell_type": "code",
   "execution_count": 96,
   "source": [
    "lin_reg = LinearRegression()\r\n",
    "cv_score_mae = cross_val_score(lin_reg, X, y, cv=tscv, scoring='neg_mean_absolute_error', n_jobs=-1)\r\n",
    "cv_score_mape = cross_val_score(lin_reg, X, y, cv=tscv, scoring='neg_mean_absolute_percentage_error', n_jobs=-1)\r\n",
    "cv_score_r2 = cross_val_score(lin_reg, X, y, cv=tscv, scoring='r2', n_jobs=-1)"
   ],
   "outputs": [],
   "metadata": {}
  },
  {
   "cell_type": "code",
   "execution_count": 97,
   "source": [
    "cv_score_mae, cv_score_mape, cv_score_r2, cv_score_r2.mean()"
   ],
   "outputs": [
    {
     "output_type": "execute_result",
     "data": {
      "text/plain": [
       "(array([-319.80838398, -347.88643988, -322.23723156, -310.1026662 ,\n",
       "        -320.56505032]),\n",
       " array([-3.04776237, -2.17971458, -2.91738494, -2.44737318, -2.38843258]),\n",
       " array([0.08896215, 0.08991472, 0.12124327, 0.13060835, 0.13345494]),\n",
       " 0.11283668857457108)"
      ]
     },
     "metadata": {},
     "execution_count": 97
    }
   ],
   "metadata": {}
  },
  {
   "cell_type": "code",
   "execution_count": 93,
   "source": [
    "from sklearn.ensemble import RandomForestRegressor\r\n",
    "\r\n",
    "rf_reg = RandomForestRegressor()\r\n",
    "cv_score_mae = cross_val_score(rf_reg, X, y, cv=tscv, scoring='neg_mean_absolute_error', n_jobs=-1)\r\n",
    "cv_score_mape = cross_val_score(rf_reg, X, y, cv=tscv, scoring='neg_mean_absolute_percentage_error', n_jobs=-1)\r\n",
    "cv_score_r2 = cross_val_score(rf_reg, X, y, cv=tscv, scoring='r2', n_jobs=-1)"
   ],
   "outputs": [],
   "metadata": {}
  },
  {
   "cell_type": "code",
   "execution_count": 94,
   "source": [
    "cv_score_mae, cv_score_mape, cv_score_r2, cv_score_r2.mean()"
   ],
   "outputs": [
    {
     "output_type": "execute_result",
     "data": {
      "text/plain": [
       "(array([-137.18759142, -102.35439925, -136.32971269,  -90.97813806,\n",
       "         -83.21967351]),\n",
       " array([-0.58222674, -0.30812722, -0.45824072, -0.26096853, -0.27144183]),\n",
       " array([0.69787423, 0.83299052, 0.71215848, 0.85032182, 0.8708201 ]),\n",
       " 0.792833031849233)"
      ]
     },
     "metadata": {},
     "execution_count": 94
    }
   ],
   "metadata": {}
  },
  {
   "cell_type": "markdown",
   "source": [
    "As we can see a random forest regressor can outperform without any hyperparameter tuning to a linear regression model. However, both models perform fairly good."
   ],
   "metadata": {}
  },
  {
   "cell_type": "code",
   "execution_count": 84,
   "source": [
    "cv_score_mape = cross_val_score(rf_reg, X, y, cv=tscv, scoring='neg_mean_squared_error', n_jobs=-1)\r\n"
   ],
   "outputs": [],
   "metadata": {}
  },
  {
   "cell_type": "code",
   "execution_count": 92,
   "source": [
    "cv_score_r2 = cross_val_score(rf_reg, X, y, cv=tscv, scoring='r2', n_jobs=-1)\r\n",
    "cv_score_r2"
   ],
   "outputs": [
    {
     "output_type": "execute_result",
     "data": {
      "text/plain": [
       "array([0.70435334, 0.84357613, 0.71325126, 0.84873202, 0.87461968])"
      ]
     },
     "metadata": {},
     "execution_count": 92
    }
   ],
   "metadata": {}
  },
  {
   "cell_type": "code",
   "execution_count": 85,
   "source": [
    "cv_score_mape"
   ],
   "outputs": [
    {
     "output_type": "execute_result",
     "data": {
      "text/plain": [
       "array([-53369.05529019, -35545.26555963, -50195.7473114 , -24575.70239886,\n",
       "       -22030.49326228])"
      ]
     },
     "metadata": {},
     "execution_count": 85
    }
   ],
   "metadata": {}
  },
  {
   "cell_type": "code",
   "execution_count": 98,
   "source": [
    "137.2/y.max()*100"
   ],
   "outputs": [
    {
     "output_type": "execute_result",
     "data": {
      "text/plain": [
       "5.716666666666667"
      ]
     },
     "metadata": {},
     "execution_count": 98
    }
   ],
   "metadata": {}
  },
  {
   "cell_type": "markdown",
   "source": [],
   "metadata": {}
  }
 ],
 "metadata": {
  "orig_nbformat": 4,
  "language_info": {
   "name": "python",
   "version": "3.8.5",
   "mimetype": "text/x-python",
   "codemirror_mode": {
    "name": "ipython",
    "version": 3
   },
   "pygments_lexer": "ipython3",
   "nbconvert_exporter": "python",
   "file_extension": ".py"
  },
  "kernelspec": {
   "name": "python3",
   "display_name": "Python 3.8.5 64-bit ('IDS': conda)"
  },
  "interpreter": {
   "hash": "15f34abf9c331a7f2459637e7f89ff246c5e65722e54538a6a16eba129711876"
  }
 },
 "nbformat": 4,
 "nbformat_minor": 2
}